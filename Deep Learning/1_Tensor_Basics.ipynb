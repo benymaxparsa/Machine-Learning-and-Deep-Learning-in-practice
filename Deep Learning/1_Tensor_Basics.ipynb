{
 "cells": [
  {
   "cell_type": "code",
   "execution_count": 1,
   "metadata": {
    "collapsed": true,
    "pycharm": {
     "name": "#%%\n"
    }
   },
   "outputs": [
    {
     "name": "stderr",
     "output_type": "stream",
     "text": [
      "C:\\Users\\parsa\\.conda\\envs\\tf-2.9\\lib\\site-packages\\keras\\optimizers\\optimizer_v2\\adam.py:110: UserWarning: The `lr` argument is deprecated, use `learning_rate` instead.\n",
      "  super(Adam, self).__init__(name, **kwargs)\n"
     ]
    },
    {
     "name": "stdout",
     "output_type": "stream",
     "text": [
      "Epoch 1/10\n",
      "782/782 - 22s - loss: 1.3394 - accuracy: 0.5197 - 22s/epoch - 27ms/step\n",
      "Epoch 2/10\n",
      "782/782 - 8s - loss: 0.9680 - accuracy: 0.6617 - 8s/epoch - 11ms/step\n",
      "Epoch 3/10\n",
      "782/782 - 10s - loss: 0.8071 - accuracy: 0.7187 - 10s/epoch - 13ms/step\n",
      "Epoch 4/10\n",
      "782/782 - 8s - loss: 0.7016 - accuracy: 0.7588 - 8s/epoch - 10ms/step\n",
      "Epoch 5/10\n",
      "782/782 - 8s - loss: 0.6167 - accuracy: 0.7879 - 8s/epoch - 11ms/step\n",
      "Epoch 6/10\n",
      "782/782 - 8s - loss: 0.5529 - accuracy: 0.8104 - 8s/epoch - 10ms/step\n",
      "Epoch 7/10\n",
      "782/782 - 8s - loss: 0.4884 - accuracy: 0.8321 - 8s/epoch - 11ms/step\n",
      "Epoch 8/10\n",
      "782/782 - 9s - loss: 0.4360 - accuracy: 0.8506 - 9s/epoch - 12ms/step\n",
      "Epoch 9/10\n",
      "782/782 - 8s - loss: 0.3829 - accuracy: 0.8711 - 8s/epoch - 10ms/step\n",
      "Epoch 10/10\n",
      "782/782 - 8s - loss: 0.3320 - accuracy: 0.8889 - 8s/epoch - 10ms/step\n",
      "157/157 - 1s - loss: 1.0080 - accuracy: 0.6965 - 1s/epoch - 7ms/step\n"
     ]
    },
    {
     "data": {
      "text/plain": "[1.0079618692398071, 0.6965000033378601]"
     },
     "execution_count": 1,
     "metadata": {},
     "output_type": "execute_result"
    }
   ],
   "source": [
    "import os\n",
    "\n",
    "# os.environ[\"TF_CPP_MIN_LOG_LEVEL\"] = \"2\"\n",
    "\n",
    "import tensorflow as tf\n",
    "from tensorflow import keras\n",
    "from tensorflow.keras import layers\n",
    "from tensorflow.keras.datasets import cifar10\n",
    "\n",
    "physical_devices = tf.config.list_physical_devices(\"GPU\")\n",
    "tf.config.experimental.set_memory_growth(physical_devices[0], True)\n",
    "\n",
    "(x_train, y_train), (x_test, y_test) = cifar10.load_data()\n",
    "x_train = x_train.astype(\"float32\") / 255.0\n",
    "x_test = x_test.astype(\"float32\") / 255.0\n",
    "\n",
    "model = keras.Sequential(\n",
    "    [\n",
    "        keras.Input(shape=(32, 32, 3)),\n",
    "        layers.Conv2D(32, 3, padding=\"valid\", activation=\"relu\"),\n",
    "        layers.MaxPooling2D(),\n",
    "        layers.Conv2D(64, 3, activation=\"relu\"),\n",
    "        layers.MaxPooling2D(),\n",
    "        layers.Conv2D(128, 3, activation=\"relu\"),\n",
    "        layers.Flatten(),\n",
    "        layers.Dense(64, activation=\"relu\"),\n",
    "        layers.Dense(10),\n",
    "    ]\n",
    ")\n",
    "\n",
    "\n",
    "def my_model():\n",
    "    inputs = keras.Input(shape=(32, 32, 3))\n",
    "    x = layers.Conv2D(32, 3)(inputs)\n",
    "    x = layers.BatchNormalization()(x)\n",
    "    x = keras.activations.relu(x)\n",
    "    x = layers.MaxPooling2D()(x)\n",
    "    x = layers.Conv2D(64, 3)(x)\n",
    "    x = layers.BatchNormalization()(x)\n",
    "    x = keras.activations.relu(x)\n",
    "    x = layers.MaxPooling2D()(x)\n",
    "    x = layers.Conv2D(128, 3)(x)\n",
    "    x = layers.BatchNormalization()(x)\n",
    "    x = keras.activations.relu(x)\n",
    "    x = layers.Flatten()(x)\n",
    "    x = layers.Dense(64, activation=\"relu\")(x)\n",
    "    outputs = layers.Dense(10)(x)\n",
    "    model = keras.Model(inputs=inputs, outputs=outputs)\n",
    "    return model\n",
    "\n",
    "\n",
    "model = my_model()\n",
    "model.compile(\n",
    "    loss=keras.losses.SparseCategoricalCrossentropy(from_logits=True),\n",
    "    optimizer=keras.optimizers.Adam(lr=3e-4),\n",
    "    metrics=[\"accuracy\"],\n",
    ")\n",
    "\n",
    "model.fit(x_train, y_train, batch_size=64, epochs=10, verbose=2)\n",
    "model.evaluate(x_test, y_test, batch_size=64, verbose=2)"
   ]
  }
 ],
 "metadata": {
  "kernelspec": {
   "display_name": "Python 3",
   "language": "python",
   "name": "python3"
  },
  "language_info": {
   "codemirror_mode": {
    "name": "ipython",
    "version": 2
   },
   "file_extension": ".py",
   "mimetype": "text/x-python",
   "name": "python",
   "nbconvert_exporter": "python",
   "pygments_lexer": "ipython2",
   "version": "2.7.6"
  }
 },
 "nbformat": 4,
 "nbformat_minor": 0
}