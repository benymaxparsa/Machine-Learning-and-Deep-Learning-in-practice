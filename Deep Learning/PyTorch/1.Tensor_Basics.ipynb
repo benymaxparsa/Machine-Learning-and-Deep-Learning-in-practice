{
 "cells": [
  {
   "cell_type": "code",
   "execution_count": 2,
   "metadata": {
    "collapsed": true,
    "pycharm": {
     "name": "#%%\n"
    }
   },
   "outputs": [],
   "source": [
    "import torch"
   ]
  },
  {
   "cell_type": "markdown",
   "metadata": {
    "collapsed": false,
    "pycharm": {
     "name": "#%% md\n"
    }
   },
   "source": [
    "# initializing"
   ]
  },
  {
   "cell_type": "code",
   "execution_count": 3,
   "metadata": {
    "collapsed": false,
    "pycharm": {
     "name": "#%%\n"
    }
   },
   "outputs": [
    {
     "name": "stdout",
     "output_type": "stream",
     "text": [
      "tensor([[1, 2, 3],\n",
      "        [4, 5, 6]])\n"
     ]
    }
   ],
   "source": [
    "my_tensor = torch.tensor([[1,2,3], [4, 5, 6]])\n",
    "print(my_tensor)"
   ]
  },
  {
   "cell_type": "code",
   "execution_count": 4,
   "metadata": {
    "collapsed": false,
    "pycharm": {
     "name": "#%%\n"
    }
   },
   "outputs": [
    {
     "name": "stdout",
     "output_type": "stream",
     "text": [
      "tensor([[1., 2., 3.],\n",
      "        [4., 5., 6.]])\n"
     ]
    }
   ],
   "source": [
    "my_tensor = torch.tensor([[1,2,3], [4, 5, 6]], dtype=torch.float32)\n",
    "print(my_tensor)"
   ]
  },
  {
   "cell_type": "code",
   "execution_count": 5,
   "metadata": {
    "collapsed": false,
    "pycharm": {
     "name": "#%%\n"
    }
   },
   "outputs": [
    {
     "name": "stdout",
     "output_type": "stream",
     "text": [
      "tensor([[1., 2., 3.],\n",
      "        [4., 5., 6.]], device='cuda:0')\n"
     ]
    }
   ],
   "source": [
    "my_tensor = torch.tensor([[1,2,3], [4, 5, 6]], dtype=torch.float32, device=\"cuda\")\n",
    "print(my_tensor)"
   ]
  },
  {
   "cell_type": "code",
   "execution_count": 6,
   "metadata": {
    "collapsed": false,
    "pycharm": {
     "name": "#%%\n"
    }
   },
   "outputs": [
    {
     "name": "stdout",
     "output_type": "stream",
     "text": [
      "tensor([[1., 2., 3.],\n",
      "        [4., 5., 6.]], device='cuda:0', requires_grad=True)\n"
     ]
    }
   ],
   "source": [
    "my_tensor = torch.tensor([[1,2,3], [4, 5, 6]], dtype=torch.float32, device=\"cuda\",\n",
    "                         requires_grad=True)\n",
    "print(my_tensor)"
   ]
  },
  {
   "cell_type": "code",
   "execution_count": 7,
   "metadata": {
    "collapsed": false,
    "pycharm": {
     "name": "#%%\n"
    }
   },
   "outputs": [],
   "source": [
    "device = \"cuda\" if torch.cuda.is_available() else \"cpu\""
   ]
  },
  {
   "cell_type": "code",
   "execution_count": 8,
   "metadata": {
    "collapsed": false,
    "pycharm": {
     "name": "#%%\n"
    }
   },
   "outputs": [
    {
     "name": "stdout",
     "output_type": "stream",
     "text": [
      "tensor([[1., 2., 3.],\n",
      "        [4., 5., 6.]], device='cuda:0', requires_grad=True)\n"
     ]
    }
   ],
   "source": [
    "my_tensor = torch.tensor([[1,2,3], [4, 5, 6]], dtype=torch.float32, device=device,\n",
    "                         requires_grad=True)\n",
    "print(my_tensor)"
   ]
  },
  {
   "cell_type": "code",
   "execution_count": 9,
   "metadata": {
    "collapsed": false,
    "pycharm": {
     "name": "#%%\n"
    }
   },
   "outputs": [
    {
     "name": "stdout",
     "output_type": "stream",
     "text": [
      "torch.float32\n"
     ]
    }
   ],
   "source": [
    "print(my_tensor.dtype)"
   ]
  },
  {
   "cell_type": "code",
   "execution_count": 10,
   "metadata": {
    "collapsed": false,
    "pycharm": {
     "name": "#%%\n"
    }
   },
   "outputs": [
    {
     "name": "stdout",
     "output_type": "stream",
     "text": [
      "cuda:0\n"
     ]
    }
   ],
   "source": [
    "print(my_tensor.device)"
   ]
  },
  {
   "cell_type": "code",
   "execution_count": 11,
   "metadata": {
    "collapsed": false,
    "pycharm": {
     "name": "#%%\n"
    }
   },
   "outputs": [
    {
     "name": "stdout",
     "output_type": "stream",
     "text": [
      "torch.Size([2, 3])\n"
     ]
    }
   ],
   "source": [
    "print(my_tensor.shape)"
   ]
  },
  {
   "cell_type": "code",
   "execution_count": 12,
   "metadata": {
    "collapsed": false,
    "pycharm": {
     "name": "#%%\n"
    }
   },
   "outputs": [
    {
     "name": "stdout",
     "output_type": "stream",
     "text": [
      "tensor([[1., 2., 3.],\n",
      "        [4., 5., 6.],\n",
      "        [0., 0., 0.]], device='cuda:0', requires_grad=True)\n"
     ]
    }
   ],
   "source": [
    "x = torch.empty(size=(3,3), device=device, requires_grad=True)\n",
    "print(x)"
   ]
  },
  {
   "cell_type": "code",
   "execution_count": 13,
   "metadata": {
    "collapsed": false,
    "pycharm": {
     "name": "#%%\n"
    }
   },
   "outputs": [
    {
     "name": "stdout",
     "output_type": "stream",
     "text": [
      "tensor([[0., 0., 0.],\n",
      "        [0., 0., 0.],\n",
      "        [0., 0., 0.]], device='cuda:0', requires_grad=True)\n"
     ]
    }
   ],
   "source": [
    "x = torch.zeros(size=(3,3), device=device, requires_grad=True)\n",
    "print(x)"
   ]
  },
  {
   "cell_type": "code",
   "execution_count": 14,
   "metadata": {
    "collapsed": false,
    "pycharm": {
     "name": "#%%\n"
    }
   },
   "outputs": [
    {
     "name": "stdout",
     "output_type": "stream",
     "text": [
      "tensor([[0.3071, 0.1684, 0.4886],\n",
      "        [0.3232, 0.3456, 0.4381],\n",
      "        [0.1397, 0.0721, 0.1789]], device='cuda:0', requires_grad=True)\n"
     ]
    }
   ],
   "source": [
    "x = torch.rand(size=(3,3), device=device, requires_grad=True)\n",
    "print(x)"
   ]
  },
  {
   "cell_type": "code",
   "execution_count": 15,
   "metadata": {
    "collapsed": false,
    "pycharm": {
     "name": "#%%\n"
    }
   },
   "outputs": [
    {
     "name": "stdout",
     "output_type": "stream",
     "text": [
      "tensor([[1., 1., 1.],\n",
      "        [1., 1., 1.],\n",
      "        [1., 1., 1.]], device='cuda:0', requires_grad=True)\n"
     ]
    }
   ],
   "source": [
    "x = torch.ones(size=(3,3), device=device, requires_grad=True)\n",
    "print(x)"
   ]
  },
  {
   "cell_type": "code",
   "execution_count": 16,
   "metadata": {
    "collapsed": false,
    "pycharm": {
     "name": "#%%\n"
    }
   },
   "outputs": [
    {
     "name": "stdout",
     "output_type": "stream",
     "text": [
      "tensor([[1., 0., 0., 0., 0.],\n",
      "        [0., 1., 0., 0., 0.],\n",
      "        [0., 0., 1., 0., 0.],\n",
      "        [0., 0., 0., 1., 0.],\n",
      "        [0., 0., 0., 0., 1.]], device='cuda:0', requires_grad=True)\n"
     ]
    }
   ],
   "source": [
    "x = torch.eye(5,5, device=device, requires_grad=True)\n",
    "print(x)"
   ]
  },
  {
   "cell_type": "code",
   "execution_count": 17,
   "metadata": {
    "collapsed": false,
    "pycharm": {
     "name": "#%%\n"
    }
   },
   "outputs": [
    {
     "name": "stdout",
     "output_type": "stream",
     "text": [
      "tensor([0, 2, 4, 6, 8], device='cuda:0')\n"
     ]
    }
   ],
   "source": [
    "x = torch.arange(start=0,end=10, step=2, device=device)\n",
    "print(x)"
   ]
  },
  {
   "cell_type": "code",
   "execution_count": 18,
   "metadata": {
    "collapsed": false,
    "pycharm": {
     "name": "#%%\n"
    }
   },
   "outputs": [
    {
     "name": "stdout",
     "output_type": "stream",
     "text": [
      "tensor([0.1000, 0.2000, 0.3000, 0.4000, 0.5000, 0.6000, 0.7000, 0.8000, 0.9000,\n",
      "        1.0000], device='cuda:0')\n"
     ]
    }
   ],
   "source": [
    "x = torch.linspace(start=0.1, end=1, steps=10, device=device)\n",
    "print(x)"
   ]
  },
  {
   "cell_type": "code",
   "execution_count": 19,
   "metadata": {
    "collapsed": false,
    "pycharm": {
     "name": "#%%\n"
    }
   },
   "outputs": [
    {
     "name": "stdout",
     "output_type": "stream",
     "text": [
      "tensor([[-0.4520, -0.1646,  0.5093, -0.9653,  0.9076]], device='cuda:0')\n"
     ]
    }
   ],
   "source": [
    "x = torch.empty(size=(1, 5), device=device).normal_(mean=0, std=1)\n",
    "print(x)"
   ]
  },
  {
   "cell_type": "code",
   "execution_count": 20,
   "metadata": {
    "collapsed": false,
    "pycharm": {
     "name": "#%%\n"
    }
   },
   "outputs": [
    {
     "name": "stdout",
     "output_type": "stream",
     "text": [
      "tensor([[0.3520, 0.9735, 0.5215, 0.5763, 0.0378]], device='cuda:0')\n"
     ]
    }
   ],
   "source": [
    "x = torch.empty(size=(1, 5), device=device).uniform_(0, 1)\n",
    "print(x)"
   ]
  },
  {
   "cell_type": "code",
   "execution_count": 21,
   "metadata": {
    "collapsed": false,
    "pycharm": {
     "name": "#%%\n"
    }
   },
   "outputs": [
    {
     "name": "stdout",
     "output_type": "stream",
     "text": [
      "tensor([[1., 0., 0.],\n",
      "        [0., 1., 0.],\n",
      "        [0., 0., 1.]])\n"
     ]
    }
   ],
   "source": [
    "x = torch.diag(torch.ones(3))\n",
    "print(x)"
   ]
  },
  {
   "cell_type": "markdown",
   "metadata": {
    "collapsed": false,
    "pycharm": {
     "name": "#%% md\n"
    }
   },
   "source": [
    "## convert types"
   ]
  },
  {
   "cell_type": "code",
   "execution_count": 22,
   "metadata": {
    "collapsed": false,
    "pycharm": {
     "name": "#%%\n"
    }
   },
   "outputs": [
    {
     "name": "stdout",
     "output_type": "stream",
     "text": [
      "tensor([0, 1, 2, 3], device='cuda:0')\n"
     ]
    }
   ],
   "source": [
    "tensor = torch.arange(4, device=device)\n",
    "print(tensor)"
   ]
  },
  {
   "cell_type": "code",
   "execution_count": 23,
   "metadata": {
    "collapsed": false,
    "pycharm": {
     "name": "#%%\n"
    }
   },
   "outputs": [
    {
     "name": "stdout",
     "output_type": "stream",
     "text": [
      "tensor([False,  True,  True,  True], device='cuda:0')\n"
     ]
    }
   ],
   "source": [
    "print(tensor.bool())"
   ]
  },
  {
   "cell_type": "code",
   "execution_count": 24,
   "metadata": {
    "collapsed": false,
    "pycharm": {
     "name": "#%%\n"
    }
   },
   "outputs": [
    {
     "name": "stdout",
     "output_type": "stream",
     "text": [
      "tensor([0, 1, 2, 3], device='cuda:0', dtype=torch.int16)\n"
     ]
    }
   ],
   "source": [
    "print(tensor.short())"
   ]
  },
  {
   "cell_type": "code",
   "execution_count": 25,
   "metadata": {
    "collapsed": false,
    "pycharm": {
     "name": "#%%\n"
    }
   },
   "outputs": [
    {
     "name": "stdout",
     "output_type": "stream",
     "text": [
      "tensor([0, 1, 2, 3], device='cuda:0')\n",
      "torch.int64\n"
     ]
    }
   ],
   "source": [
    "print(tensor.long())\n",
    "print(tensor.long().dtype)"
   ]
  },
  {
   "cell_type": "code",
   "execution_count": 26,
   "metadata": {
    "collapsed": false,
    "pycharm": {
     "name": "#%%\n"
    }
   },
   "outputs": [
    {
     "name": "stdout",
     "output_type": "stream",
     "text": [
      "tensor([0., 1., 2., 3.], device='cuda:0', dtype=torch.float16)\n"
     ]
    }
   ],
   "source": [
    "print(tensor.half())"
   ]
  },
  {
   "cell_type": "code",
   "execution_count": 27,
   "metadata": {
    "collapsed": false,
    "pycharm": {
     "name": "#%%\n"
    }
   },
   "outputs": [
    {
     "name": "stdout",
     "output_type": "stream",
     "text": [
      "tensor([0., 1., 2., 3.], device='cuda:0')\n",
      "torch.float32\n"
     ]
    }
   ],
   "source": [
    "print(tensor.float())\n",
    "print(tensor.float().dtype)"
   ]
  },
  {
   "cell_type": "code",
   "execution_count": 28,
   "metadata": {
    "collapsed": false,
    "pycharm": {
     "name": "#%%\n"
    }
   },
   "outputs": [
    {
     "name": "stdout",
     "output_type": "stream",
     "text": [
      "tensor([0., 1., 2., 3.], device='cuda:0', dtype=torch.float64)\n"
     ]
    }
   ],
   "source": [
    "print(tensor.double())"
   ]
  },
  {
   "cell_type": "code",
   "execution_count": 29,
   "metadata": {
    "collapsed": false,
    "pycharm": {
     "name": "#%%\n"
    }
   },
   "outputs": [],
   "source": [
    "import numpy as np"
   ]
  },
  {
   "cell_type": "code",
   "execution_count": 30,
   "metadata": {
    "collapsed": false,
    "pycharm": {
     "name": "#%%\n"
    }
   },
   "outputs": [
    {
     "name": "stdout",
     "output_type": "stream",
     "text": [
      "[[0. 0. 0. 0. 0.]\n",
      " [0. 0. 0. 0. 0.]\n",
      " [0. 0. 0. 0. 0.]\n",
      " [0. 0. 0. 0. 0.]\n",
      " [0. 0. 0. 0. 0.]]\n",
      "tensor([[0., 0., 0., 0., 0.],\n",
      "        [0., 0., 0., 0., 0.],\n",
      "        [0., 0., 0., 0., 0.],\n",
      "        [0., 0., 0., 0., 0.],\n",
      "        [0., 0., 0., 0., 0.]], device='cuda:0', dtype=torch.float64)\n"
     ]
    }
   ],
   "source": [
    "np_array = np.zeros((5, 5))\n",
    "print(np_array)\n",
    "tensor = torch.from_numpy(np_array).cuda()\n",
    "print(tensor)"
   ]
  },
  {
   "cell_type": "code",
   "execution_count": 31,
   "metadata": {
    "collapsed": false,
    "pycharm": {
     "name": "#%%\n"
    }
   },
   "outputs": [
    {
     "name": "stdout",
     "output_type": "stream",
     "text": [
      "[[0. 0. 0. 0. 0.]\n",
      " [0. 0. 0. 0. 0.]\n",
      " [0. 0. 0. 0. 0.]\n",
      " [0. 0. 0. 0. 0.]\n",
      " [0. 0. 0. 0. 0.]]\n"
     ]
    }
   ],
   "source": [
    "np_array_back = tensor.cpu().numpy()\n",
    "print(np_array_back)"
   ]
  },
  {
   "cell_type": "markdown",
   "source": [
    "# Tensor Math"
   ],
   "metadata": {
    "collapsed": false,
    "pycharm": {
     "name": "#%% md\n"
    }
   },
   "execution_count": 1
  },
  {
   "cell_type": "code",
   "execution_count": 32,
   "outputs": [],
   "source": [
    "x = torch.tensor([1, 2, 3], device=device)\n",
    "y = torch.tensor([9, 8, 7], device=device)"
   ],
   "metadata": {
    "collapsed": false,
    "pycharm": {
     "name": "#%%\n"
    }
   }
  },
  {
   "cell_type": "code",
   "execution_count": 33,
   "outputs": [
    {
     "name": "stdout",
     "output_type": "stream",
     "text": [
      "tensor([2.3694e-38, 2.3694e-38, 2.3694e-38], device='cuda:0')\n"
     ]
    }
   ],
   "source": [
    "z = torch.empty(3, device=device)\n",
    "print(z)"
   ],
   "metadata": {
    "collapsed": false,
    "pycharm": {
     "name": "#%%\n"
    }
   }
  },
  {
   "cell_type": "code",
   "execution_count": 34,
   "outputs": [
    {
     "name": "stdout",
     "output_type": "stream",
     "text": [
      "tensor([10., 10., 10.], device='cuda:0')\n"
     ]
    }
   ],
   "source": [
    "torch.add(x, y, out=z)\n",
    "print(z)"
   ],
   "metadata": {
    "collapsed": false,
    "pycharm": {
     "name": "#%%\n"
    }
   }
  },
  {
   "cell_type": "code",
   "execution_count": 35,
   "outputs": [
    {
     "name": "stdout",
     "output_type": "stream",
     "text": [
      "tensor([10, 10, 10], device='cuda:0')\n"
     ]
    }
   ],
   "source": [
    "z = torch.add(x, y)\n",
    "print(z)"
   ],
   "metadata": {
    "collapsed": false,
    "pycharm": {
     "name": "#%%\n"
    }
   }
  },
  {
   "cell_type": "code",
   "execution_count": 36,
   "outputs": [
    {
     "name": "stdout",
     "output_type": "stream",
     "text": [
      "tensor([10, 10, 10], device='cuda:0')\n"
     ]
    }
   ],
   "source": [
    "z = x + y\n",
    "print(z)"
   ],
   "metadata": {
    "collapsed": false,
    "pycharm": {
     "name": "#%%\n"
    }
   }
  },
  {
   "cell_type": "code",
   "execution_count": 37,
   "outputs": [
    {
     "name": "stdout",
     "output_type": "stream",
     "text": [
      "tensor([-8, -6, -4], device='cuda:0')\n"
     ]
    }
   ],
   "source": [
    "torch.subtract(x, y, out=z)\n",
    "print(z)"
   ],
   "metadata": {
    "collapsed": false,
    "pycharm": {
     "name": "#%%\n"
    }
   }
  },
  {
   "cell_type": "code",
   "execution_count": 38,
   "outputs": [
    {
     "name": "stdout",
     "output_type": "stream",
     "text": [
      "tensor([-8, -6, -4], device='cuda:0')\n"
     ]
    }
   ],
   "source": [
    "z = torch.subtract(x, y)\n",
    "print(z)"
   ],
   "metadata": {
    "collapsed": false,
    "pycharm": {
     "name": "#%%\n"
    }
   }
  },
  {
   "cell_type": "code",
   "execution_count": 39,
   "outputs": [
    {
     "name": "stdout",
     "output_type": "stream",
     "text": [
      "tensor([-8, -6, -4], device='cuda:0')\n"
     ]
    }
   ],
   "source": [
    "z = x - y\n",
    "print(z)"
   ],
   "metadata": {
    "collapsed": false,
    "pycharm": {
     "name": "#%%\n"
    }
   }
  },
  {
   "cell_type": "code",
   "execution_count": 40,
   "outputs": [
    {
     "name": "stdout",
     "output_type": "stream",
     "text": [
      "tensor([0.1111, 0.2500, 0.4286], device='cuda:0')\n"
     ]
    }
   ],
   "source": [
    "z = torch.true_divide(x, y)\n",
    "print(z)"
   ],
   "metadata": {
    "collapsed": false,
    "pycharm": {
     "name": "#%%\n"
    }
   }
  },
  {
   "cell_type": "code",
   "execution_count": 41,
   "outputs": [
    {
     "name": "stdout",
     "output_type": "stream",
     "text": [
      "tensor([0.5000, 1.0000, 1.5000], device='cuda:0')\n"
     ]
    }
   ],
   "source": [
    "z = torch.true_divide(x, 2)\n",
    "print(z)"
   ],
   "metadata": {
    "collapsed": false,
    "pycharm": {
     "name": "#%%\n"
    }
   }
  },
  {
   "cell_type": "code",
   "execution_count": 42,
   "outputs": [
    {
     "name": "stdout",
     "output_type": "stream",
     "text": [
      "tensor([0., 0., 0.], device='cuda:0')\n",
      "tensor([1., 2., 3.], device='cuda:0')\n"
     ]
    }
   ],
   "source": [
    "# inplace\n",
    "t = torch.zeros(3, device=device)\n",
    "print(t)\n",
    "t.add_(x)\n",
    "print(t)"
   ],
   "metadata": {
    "collapsed": false,
    "pycharm": {
     "name": "#%%\n"
    }
   }
  },
  {
   "cell_type": "code",
   "execution_count": 43,
   "outputs": [
    {
     "name": "stdout",
     "output_type": "stream",
     "text": [
      "tensor([0., 0., 0.], device='cuda:0')\n",
      "tensor([1., 2., 3.], device='cuda:0')\n"
     ]
    }
   ],
   "source": [
    "t = torch.zeros(3, device=device)\n",
    "print(t)\n",
    "t += x\n",
    "print(t)"
   ],
   "metadata": {
    "collapsed": false,
    "pycharm": {
     "name": "#%%\n"
    }
   }
  },
  {
   "cell_type": "code",
   "execution_count": 45,
   "outputs": [
    {
     "name": "stdout",
     "output_type": "stream",
     "text": [
      "tensor([1, 4, 9], device='cuda:0')\n"
     ]
    }
   ],
   "source": [
    "z = x.pow(2)\n",
    "print(z)"
   ],
   "metadata": {
    "collapsed": false,
    "pycharm": {
     "name": "#%%\n"
    }
   }
  },
  {
   "cell_type": "code",
   "execution_count": 46,
   "outputs": [
    {
     "name": "stdout",
     "output_type": "stream",
     "text": [
      "tensor([1, 4, 9], device='cuda:0')\n"
     ]
    }
   ],
   "source": [
    "z = x ** 2\n",
    "print(z)"
   ],
   "metadata": {
    "collapsed": false,
    "pycharm": {
     "name": "#%%\n"
    }
   }
  },
  {
   "cell_type": "code",
   "execution_count": 47,
   "outputs": [
    {
     "name": "stdout",
     "output_type": "stream",
     "text": [
      "tensor([True, True, True], device='cuda:0')\n"
     ]
    }
   ],
   "source": [
    "z = x > 0\n",
    "print(z)"
   ],
   "metadata": {
    "collapsed": false,
    "pycharm": {
     "name": "#%%\n"
    }
   }
  },
  {
   "cell_type": "code",
   "execution_count": 48,
   "outputs": [
    {
     "name": "stdout",
     "output_type": "stream",
     "text": [
      "tensor([False, False, False], device='cuda:0')\n"
     ]
    }
   ],
   "source": [
    "z = x < 0\n",
    "print(z)"
   ],
   "metadata": {
    "collapsed": false,
    "pycharm": {
     "name": "#%%\n"
    }
   }
  },
  {
   "cell_type": "code",
   "execution_count": 49,
   "outputs": [],
   "source": [
    "x1 = torch.rand(size=(2, 5), device=device)\n",
    "x2 = torch.rand(size=(5, 3), device=device)"
   ],
   "metadata": {
    "collapsed": false,
    "pycharm": {
     "name": "#%%\n"
    }
   }
  },
  {
   "cell_type": "code",
   "execution_count": 50,
   "outputs": [
    {
     "name": "stdout",
     "output_type": "stream",
     "text": [
      "tensor([[0.3362, 0.2864, 0.4890],\n",
      "        [1.6308, 1.2064, 2.0296]], device='cuda:0')\n"
     ]
    }
   ],
   "source": [
    "x3 = torch.mm(x1, x2)\n",
    "print(x3)"
   ],
   "metadata": {
    "collapsed": false,
    "pycharm": {
     "name": "#%%\n"
    }
   }
  },
  {
   "cell_type": "code",
   "execution_count": 51,
   "outputs": [
    {
     "name": "stdout",
     "output_type": "stream",
     "text": [
      "tensor([[0.3362, 0.2864, 0.4890],\n",
      "        [1.6308, 1.2064, 2.0296]], device='cuda:0')\n"
     ]
    }
   ],
   "source": [
    "x3 = x1.mm(x2)\n",
    "print(x3)"
   ],
   "metadata": {
    "collapsed": false,
    "pycharm": {
     "name": "#%%\n"
    }
   }
  },
  {
   "cell_type": "code",
   "execution_count": 52,
   "outputs": [
    {
     "name": "stdout",
     "output_type": "stream",
     "text": [
      "tensor([[4.8368, 4.1041, 3.2424, 3.8233, 4.5231],\n",
      "        [3.7010, 3.0667, 2.4930, 3.1416, 3.5432],\n",
      "        [5.8153, 4.9269, 3.9919, 4.8834, 5.6421],\n",
      "        [3.6667, 3.1248, 2.4605, 3.0466, 3.4484],\n",
      "        [6.1510, 5.2576, 4.1652, 4.9407, 5.8186]], device='cuda:0')\n"
     ]
    }
   ],
   "source": [
    "matrix_exp = torch.rand(size=(5, 5), device=device)\n",
    "x = matrix_exp.matrix_power(3)\n",
    "print(x)"
   ],
   "metadata": {
    "collapsed": false,
    "pycharm": {
     "name": "#%%\n"
    }
   }
  },
  {
   "cell_type": "code",
   "execution_count": 62,
   "outputs": [
    {
     "name": "stdout",
     "output_type": "stream",
     "text": [
      "tensor([ 9., 16., 21.], device='cuda:0')\n"
     ]
    }
   ],
   "source": [
    "x = torch.tensor([1, 2, 3], device=device, dtype=torch.float32)\n",
    "y = torch.tensor([9, 8, 7], device=device, dtype=torch.float32)\n",
    "z = x * y\n",
    "print(z)"
   ],
   "metadata": {
    "collapsed": false,
    "pycharm": {
     "name": "#%%\n"
    }
   }
  },
  {
   "cell_type": "code",
   "execution_count": 63,
   "outputs": [
    {
     "name": "stdout",
     "output_type": "stream",
     "text": [
      "tensor(46., device='cuda:0')\n"
     ]
    }
   ],
   "source": [
    "z = x @ y\n",
    "print(z)"
   ],
   "metadata": {
    "collapsed": false,
    "pycharm": {
     "name": "#%%\n"
    }
   }
  },
  {
   "cell_type": "code",
   "execution_count": 64,
   "outputs": [],
   "source": [
    "batch = 32\n",
    "n = 10\n",
    "m = 20\n",
    "p = 30"
   ],
   "metadata": {
    "collapsed": false,
    "pycharm": {
     "name": "#%%\n"
    }
   }
  },
  {
   "cell_type": "code",
   "execution_count": 65,
   "outputs": [],
   "source": [
    "tensor1 = torch.rand(size=(batch, n, m))\n",
    "tensor2 = torch.rand(size=(batch, m, p))"
   ],
   "metadata": {
    "collapsed": false,
    "pycharm": {
     "name": "#%%\n"
    }
   }
  },
  {
   "cell_type": "code",
   "execution_count": 66,
   "outputs": [
    {
     "name": "stdout",
     "output_type": "stream",
     "text": [
      "tensor([[[4.6520, 5.0643, 4.2458,  ..., 4.5995, 5.9139, 4.9606],\n",
      "         [5.3245, 6.2050, 6.4586,  ..., 5.7924, 6.1406, 5.6234],\n",
      "         [4.2691, 5.5730, 5.7451,  ..., 5.3302, 5.4612, 5.1205],\n",
      "         ...,\n",
      "         [3.0538, 2.9257, 4.3012,  ..., 3.7741, 3.3757, 3.3655],\n",
      "         [3.7232, 4.5268, 4.5941,  ..., 4.4686, 4.2839, 3.9542],\n",
      "         [3.5210, 4.0559, 4.1594,  ..., 3.4924, 4.4531, 3.2551]],\n",
      "\n",
      "        [[5.0955, 5.1594, 6.8434,  ..., 6.9885, 4.3784, 6.0611],\n",
      "         [4.0566, 3.2749, 4.7499,  ..., 5.3484, 3.7203, 5.0497],\n",
      "         [4.0452, 3.9655, 5.6362,  ..., 5.3266, 3.9713, 5.1606],\n",
      "         ...,\n",
      "         [5.7498, 3.6534, 6.2087,  ..., 6.2540, 4.3877, 6.6210],\n",
      "         [4.6947, 3.8080, 5.4706,  ..., 5.5545, 3.5170, 5.0927],\n",
      "         [4.7376, 3.4496, 5.6856,  ..., 4.7625, 4.0880, 4.9344]],\n",
      "\n",
      "        [[5.4288, 5.8458, 6.0402,  ..., 5.8326, 7.0178, 5.5526],\n",
      "         [5.0256, 4.3703, 3.3050,  ..., 4.4235, 5.3782, 3.7828],\n",
      "         [4.7162, 5.1760, 5.3521,  ..., 4.9315, 5.6070, 5.1978],\n",
      "         ...,\n",
      "         [6.3441, 5.0217, 5.1031,  ..., 5.9937, 6.4741, 4.8582],\n",
      "         [6.2663, 6.2389, 5.3503,  ..., 6.1612, 7.1929, 5.6725],\n",
      "         [4.9841, 4.0648, 4.3456,  ..., 5.4478, 5.6926, 4.2380]],\n",
      "\n",
      "        ...,\n",
      "\n",
      "        [[5.7441, 4.5531, 5.4800,  ..., 4.8124, 5.7051, 4.5711],\n",
      "         [5.3263, 5.4278, 5.7329,  ..., 5.3595, 4.9906, 4.3389],\n",
      "         [5.9001, 5.4120, 6.4740,  ..., 6.1053, 5.8352, 4.9343],\n",
      "         ...,\n",
      "         [4.7970, 5.3000, 4.9786,  ..., 4.9768, 4.4072, 3.7764],\n",
      "         [4.6787, 4.4114, 4.1936,  ..., 4.6713, 4.1219, 2.7281],\n",
      "         [5.6187, 4.5678, 4.8742,  ..., 4.2680, 5.0471, 3.8652]],\n",
      "\n",
      "        [[5.8854, 4.6574, 5.1418,  ..., 5.4480, 6.7674, 5.5688],\n",
      "         [5.0725, 4.0869, 5.4382,  ..., 4.5615, 5.6024, 4.7489],\n",
      "         [4.6591, 4.0158, 5.2531,  ..., 5.1652, 5.9191, 4.7119],\n",
      "         ...,\n",
      "         [4.2976, 3.5529, 3.7234,  ..., 3.6372, 4.5773, 4.7094],\n",
      "         [5.0201, 5.0754, 4.6792,  ..., 5.1877, 5.8879, 5.5191],\n",
      "         [5.5778, 5.0889, 5.0997,  ..., 5.2052, 6.5976, 6.2939]],\n",
      "\n",
      "        [[5.8161, 7.1620, 5.2303,  ..., 4.8465, 5.8758, 5.3041],\n",
      "         [5.8926, 8.0492, 5.3852,  ..., 5.6769, 6.2534, 5.8527],\n",
      "         [4.4185, 5.5705, 4.4845,  ..., 4.5810, 4.9074, 4.6158],\n",
      "         ...,\n",
      "         [3.8765, 5.5090, 3.3208,  ..., 3.3910, 5.1285, 3.8514],\n",
      "         [5.4850, 5.9846, 4.3108,  ..., 4.6265, 5.6450, 4.8421],\n",
      "         [4.3317, 5.6947, 4.0411,  ..., 3.4035, 4.9192, 3.8804]]])\n"
     ]
    }
   ],
   "source": [
    "out_bmm = torch.bmm(tensor1, tensor2)\n",
    "print(out_bmm)"
   ],
   "metadata": {
    "collapsed": false,
    "pycharm": {
     "name": "#%%\n"
    }
   }
  },
  {
   "cell_type": "markdown",
   "source": [
    "## Broadcasting"
   ],
   "metadata": {
    "collapsed": false,
    "pycharm": {
     "name": "#%% md\n"
    }
   }
  },
  {
   "cell_type": "code",
   "execution_count": 68,
   "outputs": [
    {
     "name": "stdout",
     "output_type": "stream",
     "text": [
      "tensor([[0.1266, 0.6464, 0.9318, 0.2478, 0.5631],\n",
      "        [0.4546, 0.8720, 0.2295, 0.1507, 0.1896],\n",
      "        [0.7152, 0.7269, 0.8802, 0.0723, 0.4145],\n",
      "        [0.7839, 0.8664, 0.9785, 0.9597, 0.3136],\n",
      "        [0.4380, 0.4503, 0.7072, 0.2411, 0.1051]])\n",
      "tensor([[0.3939, 0.3247, 0.4097, 0.0688, 0.2344]])\n"
     ]
    }
   ],
   "source": [
    "x1 = torch.rand(size=(5, 5))\n",
    "x2 = torch.rand(size=(1, 5))\n",
    "print(x1)\n",
    "print(x2)"
   ],
   "metadata": {
    "collapsed": false,
    "pycharm": {
     "name": "#%%\n"
    }
   }
  },
  {
   "cell_type": "code",
   "execution_count": 69,
   "outputs": [
    {
     "name": "stdout",
     "output_type": "stream",
     "text": [
      "tensor([[-0.2673,  0.3217,  0.5221,  0.1790,  0.3287],\n",
      "        [ 0.0607,  0.5473, -0.1802,  0.0819, -0.0448],\n",
      "        [ 0.3213,  0.4023,  0.4705,  0.0035,  0.1801],\n",
      "        [ 0.3900,  0.5417,  0.5688,  0.8909,  0.0792],\n",
      "        [ 0.0440,  0.1256,  0.2976,  0.1723, -0.1293]])\n"
     ]
    }
   ],
   "source": [
    "z = x1 - x2\n",
    "print(z)"
   ],
   "metadata": {
    "collapsed": false,
    "pycharm": {
     "name": "#%%\n"
    }
   }
  },
  {
   "cell_type": "code",
   "execution_count": 70,
   "outputs": [
    {
     "name": "stdout",
     "output_type": "stream",
     "text": [
      "tensor([[0.4430, 0.8679, 0.9715, 0.9085, 0.8741],\n",
      "        [0.7331, 0.9565, 0.5472, 0.8779, 0.6772],\n",
      "        [0.8763, 0.9016, 0.9490, 0.8346, 0.8135],\n",
      "        [0.9085, 0.9545, 0.9911, 0.9972, 0.7620],\n",
      "        [0.7224, 0.7718, 0.8677, 0.9068, 0.5897]])\n"
     ]
    }
   ],
   "source": [
    "z = x1 ** x2\n",
    "print(z)"
   ],
   "metadata": {
    "collapsed": false,
    "pycharm": {
     "name": "#%%\n"
    }
   }
  },
  {
   "cell_type": "markdown",
   "source": [
    "## other useful operations"
   ],
   "metadata": {
    "collapsed": false,
    "pycharm": {
     "name": "#%% md\n"
    }
   }
  },
  {
   "cell_type": "code",
   "execution_count": 74,
   "outputs": [
    {
     "name": "stdout",
     "output_type": "stream",
     "text": [
      "tensor(6., device='cuda:0')\n"
     ]
    }
   ],
   "source": [
    "sum_x = torch.sum(x, dim=0)\n",
    "print(sum_x)"
   ],
   "metadata": {
    "collapsed": false,
    "pycharm": {
     "name": "#%%\n"
    }
   }
  },
  {
   "cell_type": "code",
   "execution_count": 77,
   "outputs": [
    {
     "name": "stdout",
     "output_type": "stream",
     "text": [
      "tensor([1., 2., 3.], device='cuda:0')\n",
      "tensor(3., device='cuda:0') tensor(2, device='cuda:0')\n"
     ]
    }
   ],
   "source": [
    "print(x)\n",
    "values, indices = torch.max(x, dim=0)\n",
    "print(values, indices)"
   ],
   "metadata": {
    "collapsed": false,
    "pycharm": {
     "name": "#%%\n"
    }
   }
  },
  {
   "cell_type": "code",
   "execution_count": 76,
   "outputs": [
    {
     "name": "stdout",
     "output_type": "stream",
     "text": [
      "tensor(1., device='cuda:0') tensor(0, device='cuda:0')\n"
     ]
    }
   ],
   "source": [
    "values, indices = torch.min(x, dim=0)\n",
    "print(values, indices)"
   ],
   "metadata": {
    "collapsed": false,
    "pycharm": {
     "name": "#%%\n"
    }
   }
  },
  {
   "cell_type": "code",
   "execution_count": 78,
   "outputs": [
    {
     "name": "stdout",
     "output_type": "stream",
     "text": [
      "tensor([1., 2., 3.], device='cuda:0')\n"
     ]
    }
   ],
   "source": [
    "abs_x = torch.abs(x)\n",
    "print(abs_x)"
   ],
   "metadata": {
    "collapsed": false,
    "pycharm": {
     "name": "#%%\n"
    }
   }
  },
  {
   "cell_type": "code",
   "execution_count": 79,
   "outputs": [
    {
     "name": "stdout",
     "output_type": "stream",
     "text": [
      "tensor(2, device='cuda:0')\n"
     ]
    }
   ],
   "source": [
    "z = torch.argmax(x, dim=0) # only index\n",
    "print(z)"
   ],
   "metadata": {
    "collapsed": false,
    "pycharm": {
     "name": "#%%\n"
    }
   }
  },
  {
   "cell_type": "code",
   "execution_count": 81,
   "outputs": [
    {
     "name": "stdout",
     "output_type": "stream",
     "text": [
      "tensor(0, device='cuda:0')\n"
     ]
    }
   ],
   "source": [
    "z = torch.argmin(x, dim=0) # only index\n",
    "print(z)"
   ],
   "metadata": {
    "collapsed": false,
    "pycharm": {
     "name": "#%%\n"
    }
   }
  },
  {
   "cell_type": "code",
   "execution_count": 83,
   "outputs": [
    {
     "name": "stdout",
     "output_type": "stream",
     "text": [
      "tensor(2., device='cuda:0')\n"
     ]
    }
   ],
   "source": [
    "mean_x = torch.mean(x.float(), dim=0)\n",
    "print(mean_x)"
   ],
   "metadata": {
    "collapsed": false,
    "pycharm": {
     "name": "#%%\n"
    }
   }
  },
  {
   "cell_type": "code",
   "execution_count": 84,
   "outputs": [
    {
     "name": "stdout",
     "output_type": "stream",
     "text": [
      "tensor([False, False, False], device='cuda:0')\n"
     ]
    }
   ],
   "source": [
    "z = torch.eq(x, y)\n",
    "print(z)"
   ],
   "metadata": {
    "collapsed": false,
    "pycharm": {
     "name": "#%%\n"
    }
   }
  },
  {
   "cell_type": "code",
   "execution_count": 85,
   "outputs": [
    {
     "name": "stdout",
     "output_type": "stream",
     "text": [
      "tensor([7., 8., 9.], device='cuda:0') tensor([2, 1, 0], device='cuda:0')\n"
     ]
    }
   ],
   "source": [
    "sorted_y, indices = torch.sort(y, dim=0, descending=False)\n",
    "print(sorted_y, indices)"
   ],
   "metadata": {
    "collapsed": false,
    "pycharm": {
     "name": "#%%\n"
    }
   }
  },
  {
   "cell_type": "code",
   "execution_count": 87,
   "outputs": [
    {
     "name": "stdout",
     "output_type": "stream",
     "text": [
      "tensor([[7.5622, 5.2950, 9.7554, 8.2688, 4.0839, 2.3666, 5.8982, 8.1205, 3.6056,\n",
      "         3.4313]], device='cuda:0')\n"
     ]
    }
   ],
   "source": [
    "x4 = torch.rand(size=(1, 10), device=device) * 10\n",
    "print(x4)"
   ],
   "metadata": {
    "collapsed": false,
    "pycharm": {
     "name": "#%%\n"
    }
   }
  },
  {
   "cell_type": "code",
   "execution_count": 88,
   "outputs": [
    {
     "name": "stdout",
     "output_type": "stream",
     "text": [
      "tensor([[7.5622, 5.2950, 8.0000, 8.0000, 4.0839, 4.0000, 5.8982, 8.0000, 4.0000,\n",
      "         4.0000]], device='cuda:0')\n"
     ]
    }
   ],
   "source": [
    "z = torch.clamp(x4, min=4, max=8)\n",
    "print(z)"
   ],
   "metadata": {
    "collapsed": false,
    "pycharm": {
     "name": "#%%\n"
    }
   }
  },
  {
   "cell_type": "code",
   "execution_count": 89,
   "outputs": [
    {
     "name": "stdout",
     "output_type": "stream",
     "text": [
      "tensor(True, device='cuda:0')\n"
     ]
    }
   ],
   "source": [
    "x = torch.tensor([1, 0, 1, 1, 1], device=device, dtype=torch.bool)\n",
    "z = torch.any(x)\n",
    "print(z)"
   ],
   "metadata": {
    "collapsed": false,
    "pycharm": {
     "name": "#%%\n"
    }
   }
  },
  {
   "cell_type": "code",
   "execution_count": 90,
   "outputs": [
    {
     "name": "stdout",
     "output_type": "stream",
     "text": [
      "tensor(False, device='cuda:0')\n"
     ]
    }
   ],
   "source": [
    "z = torch.all(x)\n",
    "print(z)"
   ],
   "metadata": {
    "collapsed": false,
    "pycharm": {
     "name": "#%%\n"
    }
   }
  },
  {
   "cell_type": "code",
   "execution_count": null,
   "outputs": [],
   "source": [],
   "metadata": {
    "collapsed": false,
    "pycharm": {
     "name": "#%%\n"
    }
   }
  }
 ],
 "metadata": {
  "kernelspec": {
   "display_name": "Python 3.10.6 ('torch-1.12.1')",
   "language": "python",
   "name": "python3"
  },
  "language_info": {
   "codemirror_mode": {
    "name": "ipython",
    "version": 3
   },
   "file_extension": ".py",
   "mimetype": "text/x-python",
   "name": "python",
   "nbconvert_exporter": "python",
   "pygments_lexer": "ipython3",
   "version": "3.10.6"
  },
  "vscode": {
   "interpreter": {
    "hash": "1e3178fd84627fc9b229d600e91cebb94f19076bb824589ae100ad7d0273e95b"
   }
  }
 },
 "nbformat": 4,
 "nbformat_minor": 0
}