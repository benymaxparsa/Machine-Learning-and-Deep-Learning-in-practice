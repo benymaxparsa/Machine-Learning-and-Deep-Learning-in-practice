{
 "cells": [
  {
   "cell_type": "code",
   "execution_count": 1,
   "metadata": {
    "collapsed": true,
    "pycharm": {
     "name": "#%%\n"
    }
   },
   "outputs": [],
   "source": [
    "import torch"
   ]
  },
  {
   "cell_type": "markdown",
   "metadata": {
    "collapsed": false,
    "pycharm": {
     "name": "#%% md\n"
    }
   },
   "source": [
    "# initializing"
   ]
  },
  {
   "cell_type": "code",
   "execution_count": 2,
   "metadata": {
    "collapsed": false,
    "pycharm": {
     "name": "#%%\n"
    }
   },
   "outputs": [
    {
     "name": "stdout",
     "output_type": "stream",
     "text": [
      "tensor([[1, 2, 3],\n",
      "        [4, 5, 6]])\n"
     ]
    }
   ],
   "source": [
    "my_tensor = torch.tensor([[1,2,3], [4, 5, 6]])\n",
    "print(my_tensor)"
   ]
  },
  {
   "cell_type": "code",
   "execution_count": 3,
   "metadata": {
    "collapsed": false,
    "pycharm": {
     "name": "#%%\n"
    }
   },
   "outputs": [
    {
     "name": "stdout",
     "output_type": "stream",
     "text": [
      "tensor([[1., 2., 3.],\n",
      "        [4., 5., 6.]])\n"
     ]
    }
   ],
   "source": [
    "my_tensor = torch.tensor([[1,2,3], [4, 5, 6]], dtype=torch.float32)\n",
    "print(my_tensor)"
   ]
  },
  {
   "cell_type": "code",
   "execution_count": 4,
   "metadata": {
    "collapsed": false,
    "pycharm": {
     "name": "#%%\n"
    }
   },
   "outputs": [
    {
     "name": "stdout",
     "output_type": "stream",
     "text": [
      "tensor([[1., 2., 3.],\n",
      "        [4., 5., 6.]], device='cuda:0')\n"
     ]
    }
   ],
   "source": [
    "my_tensor = torch.tensor([[1,2,3], [4, 5, 6]], dtype=torch.float32, device=\"cuda\")\n",
    "print(my_tensor)"
   ]
  },
  {
   "cell_type": "code",
   "execution_count": 5,
   "metadata": {
    "collapsed": false,
    "pycharm": {
     "name": "#%%\n"
    }
   },
   "outputs": [
    {
     "name": "stdout",
     "output_type": "stream",
     "text": [
      "tensor([[1., 2., 3.],\n",
      "        [4., 5., 6.]], device='cuda:0', requires_grad=True)\n"
     ]
    }
   ],
   "source": [
    "my_tensor = torch.tensor([[1,2,3], [4, 5, 6]], dtype=torch.float32, device=\"cuda\",\n",
    "                         requires_grad=True)\n",
    "print(my_tensor)"
   ]
  },
  {
   "cell_type": "code",
   "execution_count": 6,
   "metadata": {
    "collapsed": false,
    "pycharm": {
     "name": "#%%\n"
    }
   },
   "outputs": [],
   "source": [
    "device = \"cuda\" if torch.cuda.is_available() else \"cpu\""
   ]
  },
  {
   "cell_type": "code",
   "execution_count": 7,
   "metadata": {
    "collapsed": false,
    "pycharm": {
     "name": "#%%\n"
    }
   },
   "outputs": [
    {
     "name": "stdout",
     "output_type": "stream",
     "text": [
      "tensor([[1., 2., 3.],\n",
      "        [4., 5., 6.]], device='cuda:0', requires_grad=True)\n"
     ]
    }
   ],
   "source": [
    "my_tensor = torch.tensor([[1,2,3], [4, 5, 6]], dtype=torch.float32, device=device,\n",
    "                         requires_grad=True)\n",
    "print(my_tensor)"
   ]
  },
  {
   "cell_type": "code",
   "execution_count": 8,
   "metadata": {
    "collapsed": false,
    "pycharm": {
     "name": "#%%\n"
    }
   },
   "outputs": [
    {
     "name": "stdout",
     "output_type": "stream",
     "text": [
      "torch.float32\n"
     ]
    }
   ],
   "source": [
    "print(my_tensor.dtype)"
   ]
  },
  {
   "cell_type": "code",
   "execution_count": 9,
   "metadata": {
    "collapsed": false,
    "pycharm": {
     "name": "#%%\n"
    }
   },
   "outputs": [
    {
     "name": "stdout",
     "output_type": "stream",
     "text": [
      "cuda:0\n"
     ]
    }
   ],
   "source": [
    "print(my_tensor.device)"
   ]
  },
  {
   "cell_type": "code",
   "execution_count": 10,
   "metadata": {
    "collapsed": false,
    "pycharm": {
     "name": "#%%\n"
    }
   },
   "outputs": [
    {
     "name": "stdout",
     "output_type": "stream",
     "text": [
      "torch.Size([2, 3])\n"
     ]
    }
   ],
   "source": [
    "print(my_tensor.shape)"
   ]
  },
  {
   "cell_type": "code",
   "execution_count": 11,
   "metadata": {
    "collapsed": false,
    "pycharm": {
     "name": "#%%\n"
    }
   },
   "outputs": [
    {
     "name": "stdout",
     "output_type": "stream",
     "text": [
      "tensor([[1., 2., 3.],\n",
      "        [4., 5., 6.],\n",
      "        [0., 0., 0.]], device='cuda:0', requires_grad=True)\n"
     ]
    }
   ],
   "source": [
    "x = torch.empty(size=(3,3), device=device, requires_grad=True)\n",
    "print(x)"
   ]
  },
  {
   "cell_type": "code",
   "execution_count": 12,
   "metadata": {
    "collapsed": false,
    "pycharm": {
     "name": "#%%\n"
    }
   },
   "outputs": [
    {
     "name": "stdout",
     "output_type": "stream",
     "text": [
      "tensor([[0., 0., 0.],\n",
      "        [0., 0., 0.],\n",
      "        [0., 0., 0.]], device='cuda:0', requires_grad=True)\n"
     ]
    }
   ],
   "source": [
    "x = torch.zeros(size=(3,3), device=device, requires_grad=True)\n",
    "print(x)"
   ]
  },
  {
   "cell_type": "code",
   "execution_count": 13,
   "metadata": {
    "collapsed": false,
    "pycharm": {
     "name": "#%%\n"
    }
   },
   "outputs": [
    {
     "name": "stdout",
     "output_type": "stream",
     "text": [
      "tensor([[0.0902, 0.9770, 0.3136],\n",
      "        [0.5306, 0.5507, 0.2791],\n",
      "        [0.8907, 0.5883, 0.3912]], device='cuda:0', requires_grad=True)\n"
     ]
    }
   ],
   "source": [
    "x = torch.rand(size=(3,3), device=device, requires_grad=True)\n",
    "print(x)"
   ]
  },
  {
   "cell_type": "code",
   "execution_count": 14,
   "metadata": {
    "collapsed": false,
    "pycharm": {
     "name": "#%%\n"
    }
   },
   "outputs": [
    {
     "name": "stdout",
     "output_type": "stream",
     "text": [
      "tensor([[1., 1., 1.],\n",
      "        [1., 1., 1.],\n",
      "        [1., 1., 1.]], device='cuda:0', requires_grad=True)\n"
     ]
    }
   ],
   "source": [
    "x = torch.ones(size=(3,3), device=device, requires_grad=True)\n",
    "print(x)"
   ]
  },
  {
   "cell_type": "code",
   "execution_count": 15,
   "metadata": {
    "collapsed": false,
    "pycharm": {
     "name": "#%%\n"
    }
   },
   "outputs": [
    {
     "name": "stdout",
     "output_type": "stream",
     "text": [
      "tensor([[1., 0., 0., 0., 0.],\n",
      "        [0., 1., 0., 0., 0.],\n",
      "        [0., 0., 1., 0., 0.],\n",
      "        [0., 0., 0., 1., 0.],\n",
      "        [0., 0., 0., 0., 1.]], device='cuda:0', requires_grad=True)\n"
     ]
    }
   ],
   "source": [
    "x = torch.eye(5,5, device=device, requires_grad=True)\n",
    "print(x)"
   ]
  },
  {
   "cell_type": "code",
   "execution_count": 16,
   "metadata": {
    "collapsed": false,
    "pycharm": {
     "name": "#%%\n"
    }
   },
   "outputs": [
    {
     "name": "stdout",
     "output_type": "stream",
     "text": [
      "tensor([0, 2, 4, 6, 8], device='cuda:0')\n"
     ]
    }
   ],
   "source": [
    "x = torch.arange(start=0,end=10, step=2, device=device)\n",
    "print(x)"
   ]
  },
  {
   "cell_type": "code",
   "execution_count": 17,
   "metadata": {
    "collapsed": false,
    "pycharm": {
     "name": "#%%\n"
    }
   },
   "outputs": [
    {
     "name": "stdout",
     "output_type": "stream",
     "text": [
      "tensor([0.1000, 0.2000, 0.3000, 0.4000, 0.5000, 0.6000, 0.7000, 0.8000, 0.9000,\n",
      "        1.0000], device='cuda:0')\n"
     ]
    }
   ],
   "source": [
    "x = torch.linspace(start=0.1, end=1, steps=10, device=device)\n",
    "print(x)"
   ]
  },
  {
   "cell_type": "code",
   "execution_count": 18,
   "metadata": {
    "collapsed": false,
    "pycharm": {
     "name": "#%%\n"
    }
   },
   "outputs": [
    {
     "name": "stdout",
     "output_type": "stream",
     "text": [
      "tensor([[ 1.9932, -0.2411,  0.5996, -1.0728, -0.5235]], device='cuda:0')\n"
     ]
    }
   ],
   "source": [
    "x = torch.empty(size=(1, 5), device=device).normal_(mean=0, std=1)\n",
    "print(x)"
   ]
  },
  {
   "cell_type": "code",
   "execution_count": 19,
   "metadata": {
    "collapsed": false,
    "pycharm": {
     "name": "#%%\n"
    }
   },
   "outputs": [
    {
     "name": "stdout",
     "output_type": "stream",
     "text": [
      "tensor([[0.0621, 0.5367, 0.6660, 0.3781, 0.8659]], device='cuda:0')\n"
     ]
    }
   ],
   "source": [
    "x = torch.empty(size=(1, 5), device=device).uniform_(0, 1)\n",
    "print(x)"
   ]
  },
  {
   "cell_type": "code",
   "execution_count": 20,
   "metadata": {
    "collapsed": false,
    "pycharm": {
     "name": "#%%\n"
    }
   },
   "outputs": [
    {
     "name": "stdout",
     "output_type": "stream",
     "text": [
      "tensor([[1., 0., 0.],\n",
      "        [0., 1., 0.],\n",
      "        [0., 0., 1.]])\n"
     ]
    }
   ],
   "source": [
    "x = torch.diag(torch.ones(3))\n",
    "print(x)"
   ]
  },
  {
   "cell_type": "markdown",
   "metadata": {
    "collapsed": false,
    "pycharm": {
     "name": "#%% md\n"
    }
   },
   "source": [
    "## convert types"
   ]
  },
  {
   "cell_type": "code",
   "execution_count": 21,
   "metadata": {
    "collapsed": false,
    "pycharm": {
     "name": "#%%\n"
    }
   },
   "outputs": [
    {
     "name": "stdout",
     "output_type": "stream",
     "text": [
      "tensor([0, 1, 2, 3], device='cuda:0')\n"
     ]
    }
   ],
   "source": [
    "tensor = torch.arange(4, device=device)\n",
    "print(tensor)"
   ]
  },
  {
   "cell_type": "code",
   "execution_count": 22,
   "metadata": {
    "collapsed": false,
    "pycharm": {
     "name": "#%%\n"
    }
   },
   "outputs": [
    {
     "name": "stdout",
     "output_type": "stream",
     "text": [
      "tensor([False,  True,  True,  True], device='cuda:0')\n"
     ]
    }
   ],
   "source": [
    "print(tensor.bool())"
   ]
  },
  {
   "cell_type": "code",
   "execution_count": 23,
   "metadata": {
    "collapsed": false,
    "pycharm": {
     "name": "#%%\n"
    }
   },
   "outputs": [
    {
     "name": "stdout",
     "output_type": "stream",
     "text": [
      "tensor([0, 1, 2, 3], device='cuda:0', dtype=torch.int16)\n"
     ]
    }
   ],
   "source": [
    "print(tensor.short())"
   ]
  },
  {
   "cell_type": "code",
   "execution_count": 24,
   "metadata": {
    "collapsed": false,
    "pycharm": {
     "name": "#%%\n"
    }
   },
   "outputs": [
    {
     "name": "stdout",
     "output_type": "stream",
     "text": [
      "tensor([0, 1, 2, 3], device='cuda:0')\n",
      "torch.int64\n"
     ]
    }
   ],
   "source": [
    "print(tensor.long())\n",
    "print(tensor.long().dtype)"
   ]
  },
  {
   "cell_type": "code",
   "execution_count": 25,
   "metadata": {
    "collapsed": false,
    "pycharm": {
     "name": "#%%\n"
    }
   },
   "outputs": [
    {
     "name": "stdout",
     "output_type": "stream",
     "text": [
      "tensor([0., 1., 2., 3.], device='cuda:0', dtype=torch.float16)\n"
     ]
    }
   ],
   "source": [
    "print(tensor.half())"
   ]
  },
  {
   "cell_type": "code",
   "execution_count": 26,
   "metadata": {
    "collapsed": false,
    "pycharm": {
     "name": "#%%\n"
    }
   },
   "outputs": [
    {
     "name": "stdout",
     "output_type": "stream",
     "text": [
      "tensor([0., 1., 2., 3.], device='cuda:0')\n",
      "torch.float32\n"
     ]
    }
   ],
   "source": [
    "print(tensor.float())\n",
    "print(tensor.float().dtype)"
   ]
  },
  {
   "cell_type": "code",
   "execution_count": 27,
   "metadata": {
    "collapsed": false,
    "pycharm": {
     "name": "#%%\n"
    }
   },
   "outputs": [
    {
     "name": "stdout",
     "output_type": "stream",
     "text": [
      "tensor([0., 1., 2., 3.], device='cuda:0', dtype=torch.float64)\n"
     ]
    }
   ],
   "source": [
    "print(tensor.double())"
   ]
  },
  {
   "cell_type": "code",
   "execution_count": 28,
   "metadata": {
    "collapsed": false,
    "pycharm": {
     "name": "#%%\n"
    }
   },
   "outputs": [],
   "source": [
    "import numpy as np"
   ]
  },
  {
   "cell_type": "code",
   "execution_count": 29,
   "metadata": {
    "collapsed": false,
    "pycharm": {
     "name": "#%%\n"
    }
   },
   "outputs": [
    {
     "name": "stdout",
     "output_type": "stream",
     "text": [
      "[[0. 0. 0. 0. 0.]\n",
      " [0. 0. 0. 0. 0.]\n",
      " [0. 0. 0. 0. 0.]\n",
      " [0. 0. 0. 0. 0.]\n",
      " [0. 0. 0. 0. 0.]]\n",
      "tensor([[0., 0., 0., 0., 0.],\n",
      "        [0., 0., 0., 0., 0.],\n",
      "        [0., 0., 0., 0., 0.],\n",
      "        [0., 0., 0., 0., 0.],\n",
      "        [0., 0., 0., 0., 0.]], device='cuda:0', dtype=torch.float64)\n"
     ]
    }
   ],
   "source": [
    "np_array = np.zeros((5, 5))\n",
    "print(np_array)\n",
    "tensor = torch.from_numpy(np_array).cuda()\n",
    "print(tensor)"
   ]
  },
  {
   "cell_type": "code",
   "execution_count": 30,
   "metadata": {
    "collapsed": false,
    "pycharm": {
     "name": "#%%\n"
    }
   },
   "outputs": [
    {
     "name": "stdout",
     "output_type": "stream",
     "text": [
      "[[0. 0. 0. 0. 0.]\n",
      " [0. 0. 0. 0. 0.]\n",
      " [0. 0. 0. 0. 0.]\n",
      " [0. 0. 0. 0. 0.]\n",
      " [0. 0. 0. 0. 0.]]\n"
     ]
    }
   ],
   "source": [
    "np_array_back = tensor.cpu().numpy()\n",
    "print(np_array_back)"
   ]
  },
  {
   "cell_type": "markdown",
   "source": [
    "# Tensor Math"
   ],
   "metadata": {
    "collapsed": false,
    "pycharm": {
     "name": "#%% md\n"
    }
   },
   "execution_count": 1
  },
  {
   "cell_type": "code",
   "execution_count": 31,
   "outputs": [],
   "source": [
    "x = torch.tensor([1, 2, 3], device=device)\n",
    "y = torch.tensor([9, 8, 7], device=device)"
   ],
   "metadata": {
    "collapsed": false,
    "pycharm": {
     "name": "#%%\n"
    }
   }
  },
  {
   "cell_type": "code",
   "execution_count": 32,
   "outputs": [
    {
     "name": "stdout",
     "output_type": "stream",
     "text": [
      "tensor([2.3694e-38, 2.3694e-38, 2.3694e-38], device='cuda:0')\n"
     ]
    }
   ],
   "source": [
    "z = torch.empty(3, device=device)\n",
    "print(z)"
   ],
   "metadata": {
    "collapsed": false,
    "pycharm": {
     "name": "#%%\n"
    }
   }
  },
  {
   "cell_type": "code",
   "execution_count": 33,
   "outputs": [
    {
     "name": "stdout",
     "output_type": "stream",
     "text": [
      "tensor([10., 10., 10.], device='cuda:0')\n"
     ]
    }
   ],
   "source": [
    "torch.add(x, y, out=z)\n",
    "print(z)"
   ],
   "metadata": {
    "collapsed": false,
    "pycharm": {
     "name": "#%%\n"
    }
   }
  },
  {
   "cell_type": "code",
   "execution_count": 34,
   "outputs": [
    {
     "name": "stdout",
     "output_type": "stream",
     "text": [
      "tensor([10, 10, 10], device='cuda:0')\n"
     ]
    }
   ],
   "source": [
    "z = torch.add(x, y)\n",
    "print(z)"
   ],
   "metadata": {
    "collapsed": false,
    "pycharm": {
     "name": "#%%\n"
    }
   }
  },
  {
   "cell_type": "code",
   "execution_count": 35,
   "outputs": [
    {
     "name": "stdout",
     "output_type": "stream",
     "text": [
      "tensor([10, 10, 10], device='cuda:0')\n"
     ]
    }
   ],
   "source": [
    "z = x + y\n",
    "print(z)"
   ],
   "metadata": {
    "collapsed": false,
    "pycharm": {
     "name": "#%%\n"
    }
   }
  },
  {
   "cell_type": "code",
   "execution_count": 36,
   "outputs": [
    {
     "name": "stdout",
     "output_type": "stream",
     "text": [
      "tensor([-8, -6, -4], device='cuda:0')\n"
     ]
    }
   ],
   "source": [
    "torch.subtract(x, y, out=z)\n",
    "print(z)"
   ],
   "metadata": {
    "collapsed": false,
    "pycharm": {
     "name": "#%%\n"
    }
   }
  },
  {
   "cell_type": "code",
   "execution_count": 37,
   "outputs": [
    {
     "name": "stdout",
     "output_type": "stream",
     "text": [
      "tensor([-8, -6, -4], device='cuda:0')\n"
     ]
    }
   ],
   "source": [
    "z = torch.subtract(x, y)\n",
    "print(z)"
   ],
   "metadata": {
    "collapsed": false,
    "pycharm": {
     "name": "#%%\n"
    }
   }
  },
  {
   "cell_type": "code",
   "execution_count": 38,
   "outputs": [
    {
     "name": "stdout",
     "output_type": "stream",
     "text": [
      "tensor([-8, -6, -4], device='cuda:0')\n"
     ]
    }
   ],
   "source": [
    "z = x - y\n",
    "print(z)"
   ],
   "metadata": {
    "collapsed": false,
    "pycharm": {
     "name": "#%%\n"
    }
   }
  },
  {
   "cell_type": "code",
   "execution_count": 39,
   "outputs": [
    {
     "name": "stdout",
     "output_type": "stream",
     "text": [
      "tensor([0.1111, 0.2500, 0.4286], device='cuda:0')\n"
     ]
    }
   ],
   "source": [
    "z = torch.true_divide(x, y)\n",
    "print(z)"
   ],
   "metadata": {
    "collapsed": false,
    "pycharm": {
     "name": "#%%\n"
    }
   }
  },
  {
   "cell_type": "code",
   "execution_count": 40,
   "outputs": [
    {
     "name": "stdout",
     "output_type": "stream",
     "text": [
      "tensor([0.5000, 1.0000, 1.5000], device='cuda:0')\n"
     ]
    }
   ],
   "source": [
    "z = torch.true_divide(x, 2)\n",
    "print(z)"
   ],
   "metadata": {
    "collapsed": false,
    "pycharm": {
     "name": "#%%\n"
    }
   }
  },
  {
   "cell_type": "code",
   "execution_count": 41,
   "outputs": [
    {
     "name": "stdout",
     "output_type": "stream",
     "text": [
      "tensor([0., 0., 0.], device='cuda:0')\n",
      "tensor([1., 2., 3.], device='cuda:0')\n"
     ]
    }
   ],
   "source": [
    "# inplace\n",
    "t = torch.zeros(3, device=device)\n",
    "print(t)\n",
    "t.add_(x)\n",
    "print(t)"
   ],
   "metadata": {
    "collapsed": false,
    "pycharm": {
     "name": "#%%\n"
    }
   }
  },
  {
   "cell_type": "code",
   "execution_count": 42,
   "outputs": [
    {
     "name": "stdout",
     "output_type": "stream",
     "text": [
      "tensor([0., 0., 0.], device='cuda:0')\n",
      "tensor([1., 2., 3.], device='cuda:0')\n"
     ]
    }
   ],
   "source": [
    "t = torch.zeros(3, device=device)\n",
    "print(t)\n",
    "t += x\n",
    "print(t)"
   ],
   "metadata": {
    "collapsed": false,
    "pycharm": {
     "name": "#%%\n"
    }
   }
  },
  {
   "cell_type": "code",
   "execution_count": 43,
   "outputs": [
    {
     "name": "stdout",
     "output_type": "stream",
     "text": [
      "tensor([1, 4, 9], device='cuda:0')\n"
     ]
    }
   ],
   "source": [
    "z = x.pow(2)\n",
    "print(z)"
   ],
   "metadata": {
    "collapsed": false,
    "pycharm": {
     "name": "#%%\n"
    }
   }
  },
  {
   "cell_type": "code",
   "execution_count": 44,
   "outputs": [
    {
     "name": "stdout",
     "output_type": "stream",
     "text": [
      "tensor([1, 4, 9], device='cuda:0')\n"
     ]
    }
   ],
   "source": [
    "z = x ** 2\n",
    "print(z)"
   ],
   "metadata": {
    "collapsed": false,
    "pycharm": {
     "name": "#%%\n"
    }
   }
  },
  {
   "cell_type": "code",
   "execution_count": 45,
   "outputs": [
    {
     "name": "stdout",
     "output_type": "stream",
     "text": [
      "tensor([True, True, True], device='cuda:0')\n"
     ]
    }
   ],
   "source": [
    "z = x > 0\n",
    "print(z)"
   ],
   "metadata": {
    "collapsed": false,
    "pycharm": {
     "name": "#%%\n"
    }
   }
  },
  {
   "cell_type": "code",
   "execution_count": 46,
   "outputs": [
    {
     "name": "stdout",
     "output_type": "stream",
     "text": [
      "tensor([False, False, False], device='cuda:0')\n"
     ]
    }
   ],
   "source": [
    "z = x < 0\n",
    "print(z)"
   ],
   "metadata": {
    "collapsed": false,
    "pycharm": {
     "name": "#%%\n"
    }
   }
  },
  {
   "cell_type": "code",
   "execution_count": 47,
   "outputs": [],
   "source": [
    "x1 = torch.rand(size=(2, 5), device=device)\n",
    "x2 = torch.rand(size=(5, 3), device=device)"
   ],
   "metadata": {
    "collapsed": false,
    "pycharm": {
     "name": "#%%\n"
    }
   }
  },
  {
   "cell_type": "code",
   "execution_count": 48,
   "outputs": [
    {
     "name": "stdout",
     "output_type": "stream",
     "text": [
      "tensor([[1.2333, 1.1532, 1.3521],\n",
      "        [0.5862, 0.4987, 0.5002]], device='cuda:0')\n"
     ]
    }
   ],
   "source": [
    "x3 = torch.mm(x1, x2)\n",
    "print(x3)"
   ],
   "metadata": {
    "collapsed": false,
    "pycharm": {
     "name": "#%%\n"
    }
   }
  },
  {
   "cell_type": "code",
   "execution_count": 49,
   "outputs": [
    {
     "name": "stdout",
     "output_type": "stream",
     "text": [
      "tensor([[1.2333, 1.1532, 1.3521],\n",
      "        [0.5862, 0.4987, 0.5002]], device='cuda:0')\n"
     ]
    }
   ],
   "source": [
    "x3 = x1.mm(x2)\n",
    "print(x3)"
   ],
   "metadata": {
    "collapsed": false,
    "pycharm": {
     "name": "#%%\n"
    }
   }
  },
  {
   "cell_type": "code",
   "execution_count": 50,
   "outputs": [
    {
     "name": "stdout",
     "output_type": "stream",
     "text": [
      "tensor([[5.5268, 3.8308, 2.7220, 3.8104, 3.2955],\n",
      "        [6.7555, 4.4330, 3.3432, 4.8952, 4.0049],\n",
      "        [4.4293, 3.1062, 2.2331, 3.0648, 2.6531],\n",
      "        [5.5603, 3.6275, 2.7294, 3.9241, 3.4386],\n",
      "        [4.8687, 3.5028, 2.4216, 3.3409, 2.9409]], device='cuda:0')\n"
     ]
    }
   ],
   "source": [
    "matrix_exp = torch.rand(size=(5, 5), device=device)\n",
    "x = matrix_exp.matrix_power(3)\n",
    "print(x)"
   ],
   "metadata": {
    "collapsed": false,
    "pycharm": {
     "name": "#%%\n"
    }
   }
  },
  {
   "cell_type": "code",
   "execution_count": 51,
   "outputs": [
    {
     "name": "stdout",
     "output_type": "stream",
     "text": [
      "tensor([ 9., 16., 21.], device='cuda:0')\n"
     ]
    }
   ],
   "source": [
    "x = torch.tensor([1, 2, 3], device=device, dtype=torch.float32)\n",
    "y = torch.tensor([9, 8, 7], device=device, dtype=torch.float32)\n",
    "z = x * y\n",
    "print(z)"
   ],
   "metadata": {
    "collapsed": false,
    "pycharm": {
     "name": "#%%\n"
    }
   }
  },
  {
   "cell_type": "code",
   "execution_count": 52,
   "outputs": [
    {
     "name": "stdout",
     "output_type": "stream",
     "text": [
      "tensor(46., device='cuda:0')\n"
     ]
    }
   ],
   "source": [
    "z = x @ y\n",
    "print(z)"
   ],
   "metadata": {
    "collapsed": false,
    "pycharm": {
     "name": "#%%\n"
    }
   }
  },
  {
   "cell_type": "code",
   "execution_count": 53,
   "outputs": [],
   "source": [
    "batch = 32\n",
    "n = 10\n",
    "m = 20\n",
    "p = 30"
   ],
   "metadata": {
    "collapsed": false,
    "pycharm": {
     "name": "#%%\n"
    }
   }
  },
  {
   "cell_type": "code",
   "execution_count": 54,
   "outputs": [],
   "source": [
    "tensor1 = torch.rand(size=(batch, n, m))\n",
    "tensor2 = torch.rand(size=(batch, m, p))"
   ],
   "metadata": {
    "collapsed": false,
    "pycharm": {
     "name": "#%%\n"
    }
   }
  },
  {
   "cell_type": "code",
   "execution_count": 55,
   "outputs": [
    {
     "name": "stdout",
     "output_type": "stream",
     "text": [
      "tensor([[[4.6926, 4.9837, 6.1079,  ..., 5.5569, 4.5007, 6.6437],\n",
      "         [4.3535, 4.1289, 5.4972,  ..., 6.1804, 4.8721, 6.7106],\n",
      "         [4.7731, 4.9255, 5.7578,  ..., 5.4165, 4.7056, 6.6948],\n",
      "         ...,\n",
      "         [3.6387, 4.0204, 4.7974,  ..., 5.4748, 4.0389, 5.8989],\n",
      "         [5.3132, 5.5008, 6.0789,  ..., 5.8913, 5.2130, 6.1282],\n",
      "         [4.3941, 4.7718, 5.5689,  ..., 5.0683, 4.4226, 6.0674]],\n",
      "\n",
      "        [[5.4308, 5.4887, 4.3408,  ..., 7.0416, 5.8303, 5.9679],\n",
      "         [4.5264, 5.0667, 3.6887,  ..., 5.7921, 5.0460, 5.5146],\n",
      "         [4.4067, 4.5191, 4.2437,  ..., 6.8599, 5.8725, 5.9063],\n",
      "         ...,\n",
      "         [4.6525, 5.8864, 4.0993,  ..., 6.2018, 6.0102, 5.2895],\n",
      "         [4.9968, 6.3942, 5.3116,  ..., 7.1883, 7.1120, 7.0384],\n",
      "         [4.4094, 5.0152, 3.2426,  ..., 6.1360, 4.6519, 5.0566]],\n",
      "\n",
      "        [[3.9374, 5.1950, 3.8161,  ..., 5.6121, 5.6239, 5.3875],\n",
      "         [5.0095, 5.3994, 4.3805,  ..., 6.6360, 6.9770, 6.0382],\n",
      "         [4.1307, 5.3609, 3.7263,  ..., 6.0517, 5.2476, 4.8690],\n",
      "         ...,\n",
      "         [3.6196, 5.6477, 4.1664,  ..., 5.5222, 5.4547, 4.4941],\n",
      "         [5.1888, 5.3490, 4.2639,  ..., 5.9321, 6.3858, 5.7808],\n",
      "         [3.2124, 4.0096, 2.9472,  ..., 4.6508, 4.5589, 4.0621]],\n",
      "\n",
      "        ...,\n",
      "\n",
      "        [[5.6597, 5.5322, 3.9459,  ..., 4.4027, 5.0026, 3.9918],\n",
      "         [5.3722, 6.1861, 4.5751,  ..., 6.2227, 5.9481, 4.1635],\n",
      "         [6.8719, 7.0581, 6.1634,  ..., 7.4891, 6.1889, 5.3677],\n",
      "         ...,\n",
      "         [5.4987, 5.4796, 5.1727,  ..., 5.2482, 6.0483, 4.3299],\n",
      "         [6.1986, 6.1983, 4.9796,  ..., 6.1257, 6.1204, 4.6195],\n",
      "         [6.2545, 5.3367, 5.1288,  ..., 5.8845, 5.4004, 4.2656]],\n",
      "\n",
      "        [[5.7862, 6.0113, 6.7538,  ..., 4.8480, 4.8807, 5.3912],\n",
      "         [5.2926, 3.9639, 4.1346,  ..., 3.2479, 4.2793, 3.7404],\n",
      "         [6.3395, 6.5809, 6.8634,  ..., 5.2988, 6.0127, 6.0603],\n",
      "         ...,\n",
      "         [5.0287, 5.2719, 5.5046,  ..., 4.6898, 4.2293, 4.9196],\n",
      "         [4.8884, 5.1984, 4.2321,  ..., 3.5500, 4.0871, 4.5514],\n",
      "         [5.1063, 4.9216, 5.9200,  ..., 4.2923, 4.6728, 4.9529]],\n",
      "\n",
      "        [[5.7605, 4.8565, 4.7041,  ..., 5.6752, 5.2451, 5.2584],\n",
      "         [5.2755, 4.4489, 4.2438,  ..., 5.5015, 5.6115, 4.7922],\n",
      "         [3.5480, 4.3173, 4.1756,  ..., 3.9504, 4.3265, 4.3847],\n",
      "         ...,\n",
      "         [5.1332, 5.4692, 5.3490,  ..., 5.4276, 6.1304, 6.2733],\n",
      "         [4.4042, 4.2399, 4.1038,  ..., 4.8577, 5.2031, 5.2425],\n",
      "         [4.9941, 3.6696, 4.3619,  ..., 4.9473, 6.0662, 5.5121]]])\n"
     ]
    }
   ],
   "source": [
    "out_bmm = torch.bmm(tensor1, tensor2)\n",
    "print(out_bmm)"
   ],
   "metadata": {
    "collapsed": false,
    "pycharm": {
     "name": "#%%\n"
    }
   }
  },
  {
   "cell_type": "markdown",
   "source": [
    "## Broadcasting"
   ],
   "metadata": {
    "collapsed": false,
    "pycharm": {
     "name": "#%% md\n"
    }
   }
  },
  {
   "cell_type": "code",
   "execution_count": 56,
   "outputs": [
    {
     "name": "stdout",
     "output_type": "stream",
     "text": [
      "tensor([[0.1099, 0.9644, 0.0833, 0.0393, 0.8105],\n",
      "        [0.3281, 0.2717, 0.3382, 0.4114, 0.8820],\n",
      "        [0.4014, 0.1939, 0.8824, 0.9411, 0.0394],\n",
      "        [0.0133, 0.4952, 0.8694, 0.0322, 0.8667],\n",
      "        [0.9612, 0.1754, 0.7339, 0.3562, 0.9807]])\n",
      "tensor([[0.2066, 0.9949, 0.8055, 0.3434, 0.5015]])\n"
     ]
    }
   ],
   "source": [
    "x1 = torch.rand(size=(5, 5))\n",
    "x2 = torch.rand(size=(1, 5))\n",
    "print(x1)\n",
    "print(x2)"
   ],
   "metadata": {
    "collapsed": false,
    "pycharm": {
     "name": "#%%\n"
    }
   }
  },
  {
   "cell_type": "code",
   "execution_count": 57,
   "outputs": [
    {
     "name": "stdout",
     "output_type": "stream",
     "text": [
      "tensor([[-0.0967, -0.0305, -0.7222, -0.3041,  0.3090],\n",
      "        [ 0.1216, -0.7232, -0.4673,  0.0680,  0.3805],\n",
      "        [ 0.1949, -0.8011,  0.0769,  0.5977, -0.4622],\n",
      "        [-0.1933, -0.4997,  0.0639, -0.3112,  0.3652],\n",
      "        [ 0.7546, -0.8195, -0.0716,  0.0127,  0.4792]])\n"
     ]
    }
   ],
   "source": [
    "z = x1 - x2\n",
    "print(z)"
   ],
   "metadata": {
    "collapsed": false,
    "pycharm": {
     "name": "#%%\n"
    }
   }
  },
  {
   "cell_type": "code",
   "execution_count": 58,
   "outputs": [
    {
     "name": "stdout",
     "output_type": "stream",
     "text": [
      "tensor([[0.6337, 0.9646, 0.1351, 0.3290, 0.9000],\n",
      "        [0.7944, 0.2735, 0.4176, 0.7371, 0.9390],\n",
      "        [0.8282, 0.1955, 0.9042, 0.9794, 0.1974],\n",
      "        [0.4097, 0.4970, 0.8934, 0.3072, 0.9308],\n",
      "        [0.9919, 0.1770, 0.7794, 0.7015, 0.9903]])\n"
     ]
    }
   ],
   "source": [
    "z = x1 ** x2\n",
    "print(z)"
   ],
   "metadata": {
    "collapsed": false,
    "pycharm": {
     "name": "#%%\n"
    }
   }
  },
  {
   "cell_type": "markdown",
   "source": [
    "## other useful operations"
   ],
   "metadata": {
    "collapsed": false,
    "pycharm": {
     "name": "#%% md\n"
    }
   }
  },
  {
   "cell_type": "code",
   "execution_count": 59,
   "outputs": [
    {
     "name": "stdout",
     "output_type": "stream",
     "text": [
      "tensor(6., device='cuda:0')\n"
     ]
    }
   ],
   "source": [
    "sum_x = torch.sum(x, dim=0)\n",
    "print(sum_x)"
   ],
   "metadata": {
    "collapsed": false,
    "pycharm": {
     "name": "#%%\n"
    }
   }
  },
  {
   "cell_type": "code",
   "execution_count": 60,
   "outputs": [
    {
     "name": "stdout",
     "output_type": "stream",
     "text": [
      "tensor([1., 2., 3.], device='cuda:0')\n",
      "tensor(3., device='cuda:0') tensor(2, device='cuda:0')\n"
     ]
    }
   ],
   "source": [
    "print(x)\n",
    "values, indices = torch.max(x, dim=0)\n",
    "print(values, indices)"
   ],
   "metadata": {
    "collapsed": false,
    "pycharm": {
     "name": "#%%\n"
    }
   }
  },
  {
   "cell_type": "code",
   "execution_count": 61,
   "outputs": [
    {
     "name": "stdout",
     "output_type": "stream",
     "text": [
      "tensor(1., device='cuda:0') tensor(0, device='cuda:0')\n"
     ]
    }
   ],
   "source": [
    "values, indices = torch.min(x, dim=0)\n",
    "print(values, indices)"
   ],
   "metadata": {
    "collapsed": false,
    "pycharm": {
     "name": "#%%\n"
    }
   }
  },
  {
   "cell_type": "code",
   "execution_count": 62,
   "outputs": [
    {
     "name": "stdout",
     "output_type": "stream",
     "text": [
      "tensor([1., 2., 3.], device='cuda:0')\n"
     ]
    }
   ],
   "source": [
    "abs_x = torch.abs(x)\n",
    "print(abs_x)"
   ],
   "metadata": {
    "collapsed": false,
    "pycharm": {
     "name": "#%%\n"
    }
   }
  },
  {
   "cell_type": "code",
   "execution_count": 63,
   "outputs": [
    {
     "name": "stdout",
     "output_type": "stream",
     "text": [
      "tensor(2, device='cuda:0')\n"
     ]
    }
   ],
   "source": [
    "z = torch.argmax(x, dim=0) # only index\n",
    "print(z)"
   ],
   "metadata": {
    "collapsed": false,
    "pycharm": {
     "name": "#%%\n"
    }
   }
  },
  {
   "cell_type": "code",
   "execution_count": 64,
   "outputs": [
    {
     "name": "stdout",
     "output_type": "stream",
     "text": [
      "tensor(0, device='cuda:0')\n"
     ]
    }
   ],
   "source": [
    "z = torch.argmin(x, dim=0) # only index\n",
    "print(z)"
   ],
   "metadata": {
    "collapsed": false,
    "pycharm": {
     "name": "#%%\n"
    }
   }
  },
  {
   "cell_type": "code",
   "execution_count": 65,
   "outputs": [
    {
     "name": "stdout",
     "output_type": "stream",
     "text": [
      "tensor(2., device='cuda:0')\n"
     ]
    }
   ],
   "source": [
    "mean_x = torch.mean(x.float(), dim=0)\n",
    "print(mean_x)"
   ],
   "metadata": {
    "collapsed": false,
    "pycharm": {
     "name": "#%%\n"
    }
   }
  },
  {
   "cell_type": "code",
   "execution_count": 66,
   "outputs": [
    {
     "name": "stdout",
     "output_type": "stream",
     "text": [
      "tensor([False, False, False], device='cuda:0')\n"
     ]
    }
   ],
   "source": [
    "z = torch.eq(x, y)\n",
    "print(z)"
   ],
   "metadata": {
    "collapsed": false,
    "pycharm": {
     "name": "#%%\n"
    }
   }
  },
  {
   "cell_type": "code",
   "execution_count": 67,
   "outputs": [
    {
     "name": "stdout",
     "output_type": "stream",
     "text": [
      "tensor([7., 8., 9.], device='cuda:0') tensor([2, 1, 0], device='cuda:0')\n"
     ]
    }
   ],
   "source": [
    "sorted_y, indices = torch.sort(y, dim=0, descending=False)\n",
    "print(sorted_y, indices)"
   ],
   "metadata": {
    "collapsed": false,
    "pycharm": {
     "name": "#%%\n"
    }
   }
  },
  {
   "cell_type": "code",
   "execution_count": 68,
   "outputs": [
    {
     "name": "stdout",
     "output_type": "stream",
     "text": [
      "tensor([[7.1008, 4.6344, 9.1650, 8.8992, 5.3678, 4.2829, 9.5980, 9.7067, 0.4269,\n",
      "         6.7322]], device='cuda:0')\n"
     ]
    }
   ],
   "source": [
    "x4 = torch.rand(size=(1, 10), device=device) * 10\n",
    "print(x4)"
   ],
   "metadata": {
    "collapsed": false,
    "pycharm": {
     "name": "#%%\n"
    }
   }
  },
  {
   "cell_type": "code",
   "execution_count": 69,
   "outputs": [
    {
     "name": "stdout",
     "output_type": "stream",
     "text": [
      "tensor([[7.1008, 4.6344, 8.0000, 8.0000, 5.3678, 4.2829, 8.0000, 8.0000, 4.0000,\n",
      "         6.7322]], device='cuda:0')\n"
     ]
    }
   ],
   "source": [
    "z = torch.clamp(x4, min=4, max=8)\n",
    "print(z)"
   ],
   "metadata": {
    "collapsed": false,
    "pycharm": {
     "name": "#%%\n"
    }
   }
  },
  {
   "cell_type": "code",
   "execution_count": 70,
   "outputs": [
    {
     "name": "stdout",
     "output_type": "stream",
     "text": [
      "tensor(True, device='cuda:0')\n"
     ]
    }
   ],
   "source": [
    "x = torch.tensor([1, 0, 1, 1, 1], device=device, dtype=torch.bool)\n",
    "z = torch.any(x)\n",
    "print(z)"
   ],
   "metadata": {
    "collapsed": false,
    "pycharm": {
     "name": "#%%\n"
    }
   }
  },
  {
   "cell_type": "code",
   "execution_count": 71,
   "outputs": [
    {
     "name": "stdout",
     "output_type": "stream",
     "text": [
      "tensor(False, device='cuda:0')\n"
     ]
    }
   ],
   "source": [
    "z = torch.all(x)\n",
    "print(z)"
   ],
   "metadata": {
    "collapsed": false,
    "pycharm": {
     "name": "#%%\n"
    }
   }
  },
  {
   "cell_type": "markdown",
   "source": [
    "# Tensor Indexing"
   ],
   "metadata": {
    "collapsed": false,
    "pycharm": {
     "name": "#%% md\n"
    }
   }
  },
  {
   "cell_type": "code",
   "execution_count": 72,
   "outputs": [],
   "source": [
    "batch_size = 10\n",
    "features = 25\n",
    "x = torch.rand(size=(batch_size, features), device=device)"
   ],
   "metadata": {
    "collapsed": false,
    "pycharm": {
     "name": "#%%\n"
    }
   }
  },
  {
   "cell_type": "code",
   "execution_count": 73,
   "outputs": [
    {
     "data": {
      "text/plain": "tensor([0.1055, 0.5579, 0.0668, 0.9130, 0.2015, 0.0723, 0.9472, 0.8567, 0.3535,\n        0.8565, 0.6996, 0.4820, 0.2502, 0.0012, 0.6902, 0.6170, 0.3020, 0.6669,\n        0.2810, 0.7626, 0.1965, 0.6319, 0.3303, 0.4351, 0.8435],\n       device='cuda:0')"
     },
     "execution_count": 73,
     "metadata": {},
     "output_type": "execute_result"
    }
   ],
   "source": [
    "x[0, :]"
   ],
   "metadata": {
    "collapsed": false,
    "pycharm": {
     "name": "#%%\n"
    }
   }
  },
  {
   "cell_type": "code",
   "execution_count": 74,
   "outputs": [
    {
     "data": {
      "text/plain": "tensor([0.1055, 0.5579, 0.0668, 0.9130, 0.2015, 0.0723, 0.9472, 0.8567, 0.3535,\n        0.8565, 0.6996, 0.4820, 0.2502, 0.0012, 0.6902, 0.6170, 0.3020, 0.6669,\n        0.2810, 0.7626, 0.1965, 0.6319, 0.3303, 0.4351, 0.8435],\n       device='cuda:0')"
     },
     "execution_count": 74,
     "metadata": {},
     "output_type": "execute_result"
    }
   ],
   "source": [
    "x[0]"
   ],
   "metadata": {
    "collapsed": false,
    "pycharm": {
     "name": "#%%\n"
    }
   }
  },
  {
   "cell_type": "code",
   "execution_count": 75,
   "outputs": [
    {
     "data": {
      "text/plain": "torch.Size([25])"
     },
     "execution_count": 75,
     "metadata": {},
     "output_type": "execute_result"
    }
   ],
   "source": [
    "x[0].shape"
   ],
   "metadata": {
    "collapsed": false,
    "pycharm": {
     "name": "#%%\n"
    }
   }
  },
  {
   "cell_type": "code",
   "execution_count": 76,
   "outputs": [
    {
     "data": {
      "text/plain": "tensor([0.1055, 0.1219, 0.2197, 0.8321, 0.6868, 0.6832, 0.5437, 0.3270, 0.7101,\n        0.9242], device='cuda:0')"
     },
     "execution_count": 76,
     "metadata": {},
     "output_type": "execute_result"
    }
   ],
   "source": [
    "x[:, 0]"
   ],
   "metadata": {
    "collapsed": false,
    "pycharm": {
     "name": "#%%\n"
    }
   }
  },
  {
   "cell_type": "code",
   "execution_count": 77,
   "outputs": [
    {
     "data": {
      "text/plain": "torch.Size([10])"
     },
     "execution_count": 77,
     "metadata": {},
     "output_type": "execute_result"
    }
   ],
   "source": [
    "x[:, 0].shape"
   ],
   "metadata": {
    "collapsed": false,
    "pycharm": {
     "name": "#%%\n"
    }
   }
  },
  {
   "cell_type": "code",
   "execution_count": 78,
   "outputs": [
    {
     "data": {
      "text/plain": "tensor([0.2197, 0.0465, 0.9406, 0.9997, 0.4305, 0.4967, 0.3756, 0.1056, 0.4019,\n        0.8899], device='cuda:0')"
     },
     "execution_count": 78,
     "metadata": {},
     "output_type": "execute_result"
    }
   ],
   "source": [
    "x[2, 0:10]"
   ],
   "metadata": {
    "collapsed": false,
    "pycharm": {
     "name": "#%%\n"
    }
   }
  },
  {
   "cell_type": "code",
   "execution_count": 79,
   "outputs": [],
   "source": [
    "x[2, 0:10] = torch.tensor([0.6742, 0.7751, 0.2046, 0.2539,\n",
    "                           0.0352, 5.5212, 5.9559, 5.5626, 5.0052, 5.5009], device=device)"
   ],
   "metadata": {
    "collapsed": false,
    "pycharm": {
     "name": "#%%\n"
    }
   }
  },
  {
   "cell_type": "code",
   "execution_count": 80,
   "outputs": [
    {
     "data": {
      "text/plain": "tensor([0.6742, 0.7751, 0.2046, 0.2539, 0.0352, 5.5212, 5.9559, 5.5626, 5.0052,\n        5.5009], device='cuda:0')"
     },
     "execution_count": 80,
     "metadata": {},
     "output_type": "execute_result"
    }
   ],
   "source": [
    "x[2, 0:10]"
   ],
   "metadata": {
    "collapsed": false,
    "pycharm": {
     "name": "#%%\n"
    }
   }
  },
  {
   "cell_type": "code",
   "execution_count": 81,
   "outputs": [
    {
     "data": {
      "text/plain": "tensor([0.6742, 0.7751, 0.2046, 0.2539, 0.0352, 5.5212, 5.9559, 5.5626, 5.0052,\n        5.5009, 0.1460, 0.7699, 0.9482, 0.0771, 0.8425, 0.2533, 0.5629, 0.7892,\n        0.0289, 0.1976, 0.4435, 0.5675, 0.1504, 0.5963, 0.6663],\n       device='cuda:0')"
     },
     "execution_count": 81,
     "metadata": {},
     "output_type": "execute_result"
    }
   ],
   "source": [
    "x[2]"
   ],
   "metadata": {
    "collapsed": false,
    "pycharm": {
     "name": "#%%\n"
    }
   }
  },
  {
   "cell_type": "code",
   "execution_count": 82,
   "outputs": [
    {
     "name": "stdout",
     "output_type": "stream",
     "text": [
      "tensor([0.3824, 0.2258, 0.7030, 0.8386, 0.9820, 0.7285, 0.0185, 0.7843, 0.6413,\n",
      "        0.5380], device='cuda:0')\n",
      "tensor([0.7030, 0.7285, 0.6413], device='cuda:0')\n"
     ]
    }
   ],
   "source": [
    "x = torch.rand(10, device=device)\n",
    "print(x)\n",
    "indices = [2, 5, 8]\n",
    "print(x[indices])"
   ],
   "metadata": {
    "collapsed": false,
    "pycharm": {
     "name": "#%%\n"
    }
   }
  },
  {
   "cell_type": "code",
   "execution_count": 83,
   "outputs": [],
   "source": [
    "x = torch.rand(size=(3, 5), device=device)"
   ],
   "metadata": {
    "collapsed": false,
    "pycharm": {
     "name": "#%%\n"
    }
   }
  },
  {
   "cell_type": "code",
   "execution_count": 84,
   "outputs": [
    {
     "name": "stdout",
     "output_type": "stream",
     "text": [
      "tensor([[0.8149, 0.7088, 0.6727, 0.7263, 0.6518],\n",
      "        [0.9149, 0.6674, 0.9151, 0.2189, 0.5741],\n",
      "        [0.1643, 0.8126, 0.0217, 0.2229, 0.2742]], device='cuda:0')\n"
     ]
    }
   ],
   "source": [
    "print(x)"
   ],
   "metadata": {
    "collapsed": false,
    "pycharm": {
     "name": "#%%\n"
    }
   }
  },
  {
   "cell_type": "code",
   "execution_count": 85,
   "outputs": [],
   "source": [
    "rows = torch.tensor([1, 0], device=device)\n",
    "cols = torch.tensor([4, 0], device=device)"
   ],
   "metadata": {
    "collapsed": false,
    "pycharm": {
     "name": "#%%\n"
    }
   }
  },
  {
   "cell_type": "code",
   "execution_count": 86,
   "outputs": [
    {
     "name": "stdout",
     "output_type": "stream",
     "text": [
      "tensor([0.5741, 0.8149], device='cuda:0')\n"
     ]
    }
   ],
   "source": [
    "print(x[rows, cols])"
   ],
   "metadata": {
    "collapsed": false,
    "pycharm": {
     "name": "#%%\n"
    }
   }
  },
  {
   "cell_type": "code",
   "execution_count": 87,
   "outputs": [
    {
     "name": "stdout",
     "output_type": "stream",
     "text": [
      "tensor([0, 1, 9], device='cuda:0')\n"
     ]
    }
   ],
   "source": [
    "x = torch.arange(10, device=device)\n",
    "print(\n",
    "    x[(x < 2) | (x > 8)]\n",
    ")"
   ],
   "metadata": {
    "collapsed": false,
    "pycharm": {
     "name": "#%%\n"
    }
   }
  },
  {
   "cell_type": "code",
   "execution_count": 88,
   "outputs": [
    {
     "name": "stdout",
     "output_type": "stream",
     "text": [
      "tensor([6, 7], device='cuda:0')\n"
     ]
    }
   ],
   "source": [
    "x = torch.arange(10, device=device)\n",
    "print(\n",
    "    x[(x > 5) & (x < 8)]\n",
    ")"
   ],
   "metadata": {
    "collapsed": false,
    "pycharm": {
     "name": "#%%\n"
    }
   }
  },
  {
   "cell_type": "code",
   "execution_count": 89,
   "outputs": [
    {
     "name": "stdout",
     "output_type": "stream",
     "text": [
      "tensor([0, 2, 4, 6, 8], device='cuda:0')\n"
     ]
    }
   ],
   "source": [
    "print(x[x.remainder(2) == 0])"
   ],
   "metadata": {
    "collapsed": false,
    "pycharm": {
     "name": "#%%\n"
    }
   }
  },
  {
   "cell_type": "code",
   "execution_count": 90,
   "outputs": [
    {
     "data": {
      "text/plain": "tensor([ 0,  1,  4,  9, 16, 25,  6,  7,  8,  9], device='cuda:0')"
     },
     "execution_count": 90,
     "metadata": {},
     "output_type": "execute_result"
    }
   ],
   "source": [
    "torch.where(x > 5, x, x**2)"
   ],
   "metadata": {
    "collapsed": false,
    "pycharm": {
     "name": "#%%\n"
    }
   }
  },
  {
   "cell_type": "code",
   "execution_count": 91,
   "outputs": [
    {
     "data": {
      "text/plain": "tensor([0, 1, 2, 3, 4], device='cuda:0')"
     },
     "execution_count": 91,
     "metadata": {},
     "output_type": "execute_result"
    }
   ],
   "source": [
    "torch.tensor([0,0,1,2,2,3,4], device=device).unique()"
   ],
   "metadata": {
    "collapsed": false,
    "pycharm": {
     "name": "#%%\n"
    }
   }
  },
  {
   "cell_type": "code",
   "execution_count": 92,
   "outputs": [
    {
     "data": {
      "text/plain": "1"
     },
     "execution_count": 92,
     "metadata": {},
     "output_type": "execute_result"
    }
   ],
   "source": [
    "x.ndimension()"
   ],
   "metadata": {
    "collapsed": false,
    "pycharm": {
     "name": "#%%\n"
    }
   }
  },
  {
   "cell_type": "code",
   "execution_count": 93,
   "outputs": [
    {
     "name": "stdout",
     "output_type": "stream",
     "text": [
      "tensor([[[0.8314, 0.9310, 0.3190, 0.5391, 0.1265, 0.0887, 0.4649],\n",
      "         [0.3263, 0.0449, 0.8491, 0.1472, 0.7922, 0.3156, 0.8369],\n",
      "         [0.7205, 0.8444, 0.7695, 0.2843, 0.5820, 0.4017, 0.1744],\n",
      "         [0.8846, 0.3614, 0.2221, 0.2622, 0.7940, 0.8110, 0.7219],\n",
      "         [0.7528, 0.4371, 0.0184, 0.8395, 0.7360, 0.0440, 0.3778],\n",
      "         [0.9679, 0.2465, 0.2663, 0.4379, 0.8331, 0.9284, 0.1348]],\n",
      "\n",
      "        [[0.5793, 0.8376, 0.8989, 0.6878, 0.6017, 0.0165, 0.5655],\n",
      "         [0.5373, 0.2182, 0.9088, 0.7851, 0.3534, 0.3056, 0.6951],\n",
      "         [0.5994, 0.3461, 0.9626, 0.0443, 0.2302, 0.8701, 0.9825],\n",
      "         [0.4280, 0.6237, 0.7151, 0.3946, 0.0221, 0.6626, 0.8885],\n",
      "         [0.8254, 0.8477, 0.3380, 0.3901, 0.8026, 0.8888, 0.8005],\n",
      "         [0.0629, 0.6294, 0.7236, 0.9260, 0.1595, 0.3848, 0.1800]],\n",
      "\n",
      "        [[0.2144, 0.0810, 0.5658, 0.0028, 0.9667, 0.6852, 0.0448],\n",
      "         [0.1050, 0.7362, 0.6971, 0.7679, 0.4509, 0.3128, 0.8514],\n",
      "         [0.9844, 0.3782, 0.5984, 0.3502, 0.9010, 0.5668, 0.1793],\n",
      "         [0.9496, 0.2886, 0.7818, 0.1377, 0.3838, 0.2694, 0.1611],\n",
      "         [0.8245, 0.6305, 0.4204, 0.5263, 0.0532, 0.9410, 0.7001],\n",
      "         [0.9001, 0.7386, 0.9866, 0.3453, 0.6877, 0.9618, 0.0568]],\n",
      "\n",
      "        [[0.2099, 0.3143, 0.4620, 0.0800, 0.7507, 0.4610, 0.7828],\n",
      "         [0.9989, 0.7881, 0.7974, 0.3486, 0.5477, 0.9249, 0.3971],\n",
      "         [0.0716, 0.3233, 0.1214, 0.4263, 0.8108, 0.1764, 0.9116],\n",
      "         [0.6755, 0.0634, 0.0695, 0.3330, 0.8883, 0.2191, 0.3624],\n",
      "         [0.8580, 0.6570, 0.2301, 0.1561, 0.0203, 0.6016, 0.7256],\n",
      "         [0.1392, 0.0750, 0.1019, 0.7836, 0.0380, 0.6765, 0.2874]],\n",
      "\n",
      "        [[0.7106, 0.8222, 0.2459, 0.4880, 0.6143, 0.7977, 0.4993],\n",
      "         [0.1248, 0.3376, 0.1103, 0.7046, 0.6467, 0.5116, 0.8359],\n",
      "         [0.0662, 0.4470, 0.4883, 0.1780, 0.1427, 0.9975, 0.3234],\n",
      "         [0.2183, 0.6377, 0.5515, 0.5838, 0.9264, 0.8278, 0.8835],\n",
      "         [0.7970, 0.5315, 0.9679, 0.2920, 0.9389, 0.3339, 0.3593],\n",
      "         [0.1389, 0.1958, 0.2426, 0.9330, 0.6911, 0.4138, 0.7901]]],\n",
      "       device='cuda:0')\n"
     ]
    }
   ],
   "source": [
    "tensor = torch.rand(size=(5, 6, 7), device=device)\n",
    "print(tensor)"
   ],
   "metadata": {
    "collapsed": false,
    "pycharm": {
     "name": "#%%\n"
    }
   }
  },
  {
   "cell_type": "code",
   "execution_count": 94,
   "outputs": [
    {
     "data": {
      "text/plain": "3"
     },
     "execution_count": 94,
     "metadata": {},
     "output_type": "execute_result"
    }
   ],
   "source": [
    "tensor.ndimension()"
   ],
   "metadata": {
    "collapsed": false,
    "pycharm": {
     "name": "#%%\n"
    }
   }
  },
  {
   "cell_type": "code",
   "execution_count": 95,
   "outputs": [
    {
     "data": {
      "text/plain": "210"
     },
     "execution_count": 95,
     "metadata": {},
     "output_type": "execute_result"
    }
   ],
   "source": [
    "tensor.numel()"
   ],
   "metadata": {
    "collapsed": false,
    "pycharm": {
     "name": "#%%\n"
    }
   }
  },
  {
   "cell_type": "markdown",
   "source": [
    "# Reshaping"
   ],
   "metadata": {
    "collapsed": false,
    "pycharm": {
     "name": "#%% md\n"
    }
   }
  },
  {
   "cell_type": "code",
   "execution_count": 96,
   "outputs": [],
   "source": [
    "x = torch.arange(9, device=device)"
   ],
   "metadata": {
    "collapsed": false,
    "pycharm": {
     "name": "#%%\n"
    }
   }
  },
  {
   "cell_type": "code",
   "execution_count": 97,
   "outputs": [
    {
     "name": "stdout",
     "output_type": "stream",
     "text": [
      "tensor([0, 1, 2, 3, 4, 5, 6, 7, 8], device='cuda:0')\n"
     ]
    }
   ],
   "source": [
    "print(x)"
   ],
   "metadata": {
    "collapsed": false,
    "pycharm": {
     "name": "#%%\n"
    }
   }
  },
  {
   "cell_type": "code",
   "execution_count": 98,
   "outputs": [],
   "source": [
    "x_3x3 = x.view(3,3)"
   ],
   "metadata": {
    "collapsed": false,
    "pycharm": {
     "name": "#%%\n"
    }
   }
  },
  {
   "cell_type": "code",
   "execution_count": 99,
   "outputs": [
    {
     "name": "stdout",
     "output_type": "stream",
     "text": [
      "tensor([[0, 1, 2],\n",
      "        [3, 4, 5],\n",
      "        [6, 7, 8]], device='cuda:0')\n"
     ]
    }
   ],
   "source": [
    "print(x_3x3)"
   ],
   "metadata": {
    "collapsed": false,
    "pycharm": {
     "name": "#%%\n"
    }
   }
  },
  {
   "cell_type": "code",
   "execution_count": 100,
   "outputs": [
    {
     "name": "stdout",
     "output_type": "stream",
     "text": [
      "tensor([[0, 1, 2],\n",
      "        [3, 4, 5],\n",
      "        [6, 7, 8]], device='cuda:0')\n"
     ]
    }
   ],
   "source": [
    "x_3x3 = x.reshape(3, 3)\n",
    "print(x_3x3)"
   ],
   "metadata": {
    "collapsed": false,
    "pycharm": {
     "name": "#%%\n"
    }
   }
  },
  {
   "cell_type": "code",
   "execution_count": 103,
   "outputs": [
    {
     "name": "stdout",
     "output_type": "stream",
     "text": [
      "tensor([[0, 3, 6],\n",
      "        [1, 4, 7],\n",
      "        [2, 5, 8]], device='cuda:0')\n"
     ]
    }
   ],
   "source": [
    "y = x_3x3.t()\n",
    "print(y)"
   ],
   "metadata": {
    "collapsed": false,
    "pycharm": {
     "name": "#%%\n"
    }
   }
  },
  {
   "cell_type": "code",
   "execution_count": 104,
   "outputs": [
    {
     "ename": "RuntimeError",
     "evalue": "view size is not compatible with input tensor's size and stride (at least one dimension spans across two contiguous subspaces). Use .reshape(...) instead.",
     "output_type": "error",
     "traceback": [
      "\u001B[1;31m---------------------------------------------------------------------------\u001B[0m",
      "\u001B[1;31mRuntimeError\u001B[0m                              Traceback (most recent call last)",
      "Input \u001B[1;32mIn [104]\u001B[0m, in \u001B[0;36m<cell line: 1>\u001B[1;34m()\u001B[0m\n\u001B[1;32m----> 1\u001B[0m \u001B[43my\u001B[49m\u001B[38;5;241;43m.\u001B[39;49m\u001B[43mview\u001B[49m\u001B[43m(\u001B[49m\u001B[38;5;241;43m9\u001B[39;49m\u001B[43m)\u001B[49m\n",
      "\u001B[1;31mRuntimeError\u001B[0m: view size is not compatible with input tensor's size and stride (at least one dimension spans across two contiguous subspaces). Use .reshape(...) instead."
     ]
    }
   ],
   "source": [
    "y.view(9)"
   ],
   "metadata": {
    "collapsed": false,
    "pycharm": {
     "name": "#%%\n"
    }
   }
  },
  {
   "cell_type": "code",
   "execution_count": 106,
   "outputs": [
    {
     "data": {
      "text/plain": "tensor([0, 3, 6, 1, 4, 7, 2, 5, 8], device='cuda:0')"
     },
     "execution_count": 106,
     "metadata": {},
     "output_type": "execute_result"
    }
   ],
   "source": [
    "y.contiguous().view(9)"
   ],
   "metadata": {
    "collapsed": false,
    "pycharm": {
     "name": "#%%\n"
    }
   }
  },
  {
   "cell_type": "code",
   "execution_count": 107,
   "outputs": [
    {
     "name": "stdout",
     "output_type": "stream",
     "text": [
      "tensor([[0.9682, 0.2431, 0.3516, 0.6544, 0.3063],\n",
      "        [0.5069, 0.0460, 0.2374, 0.4862, 0.3415]])\n",
      "tensor([[0.4269, 0.3679, 0.5842, 0.7243, 0.4437],\n",
      "        [0.0901, 0.1341, 0.2053, 0.2046, 0.0544]])\n"
     ]
    }
   ],
   "source": [
    "x1 = torch.rand(size=(2, 5))\n",
    "x2 = torch.rand(size=(2, 5))\n",
    "print(x1, x2, sep=\"\\n\")"
   ],
   "metadata": {
    "collapsed": false,
    "pycharm": {
     "name": "#%%\n"
    }
   }
  },
  {
   "cell_type": "code",
   "execution_count": 108,
   "outputs": [
    {
     "data": {
      "text/plain": "tensor([[0.9682, 0.2431, 0.3516, 0.6544, 0.3063],\n        [0.5069, 0.0460, 0.2374, 0.4862, 0.3415],\n        [0.4269, 0.3679, 0.5842, 0.7243, 0.4437],\n        [0.0901, 0.1341, 0.2053, 0.2046, 0.0544]])"
     },
     "execution_count": 108,
     "metadata": {},
     "output_type": "execute_result"
    }
   ],
   "source": [
    "torch.cat((x1, x2), dim=0)"
   ],
   "metadata": {
    "collapsed": false,
    "pycharm": {
     "name": "#%%\n"
    }
   }
  },
  {
   "cell_type": "code",
   "execution_count": 111,
   "outputs": [
    {
     "data": {
      "text/plain": "tensor([[0.9682, 0.2431, 0.3516, 0.6544, 0.3063, 0.4269, 0.3679, 0.5842, 0.7243,\n         0.4437],\n        [0.5069, 0.0460, 0.2374, 0.4862, 0.3415, 0.0901, 0.1341, 0.2053, 0.2046,\n         0.0544]])"
     },
     "execution_count": 111,
     "metadata": {},
     "output_type": "execute_result"
    }
   ],
   "source": [
    "torch.cat((x1, x2), dim=1)"
   ],
   "metadata": {
    "collapsed": false,
    "pycharm": {
     "name": "#%%\n"
    }
   }
  },
  {
   "cell_type": "code",
   "execution_count": 112,
   "outputs": [
    {
     "name": "stdout",
     "output_type": "stream",
     "text": [
      "tensor([0.9682, 0.2431, 0.3516, 0.6544, 0.3063, 0.5069, 0.0460, 0.2374, 0.4862,\n",
      "        0.3415])\n"
     ]
    }
   ],
   "source": [
    "z = x1.view(-1)\n",
    "print(z)"
   ],
   "metadata": {
    "collapsed": false,
    "pycharm": {
     "name": "#%%\n"
    }
   }
  },
  {
   "cell_type": "code",
   "execution_count": 113,
   "outputs": [
    {
     "name": "stdout",
     "output_type": "stream",
     "text": [
      "torch.Size([64, 2, 5])\n",
      "torch.Size([64, 10])\n"
     ]
    }
   ],
   "source": [
    "batch = 64\n",
    "x = torch.rand((batch, 2, 5))\n",
    "print(x.shape)\n",
    "z = x.view(batch, -1)\n",
    "print(z.shape)"
   ],
   "metadata": {
    "collapsed": false,
    "pycharm": {
     "name": "#%%\n"
    }
   }
  },
  {
   "cell_type": "code",
   "execution_count": 114,
   "outputs": [
    {
     "name": "stdout",
     "output_type": "stream",
     "text": [
      "torch.Size([64, 5, 2])\n"
     ]
    }
   ],
   "source": [
    "z = x.permute(0, 2, 1)\n",
    "print(z.shape)"
   ],
   "metadata": {
    "collapsed": false,
    "pycharm": {
     "name": "#%%\n"
    }
   }
  },
  {
   "cell_type": "code",
   "execution_count": 115,
   "outputs": [
    {
     "name": "stdout",
     "output_type": "stream",
     "text": [
      "tensor([0, 1, 2, 3, 4, 5, 6, 7, 8, 9])\n"
     ]
    }
   ],
   "source": [
    "x = torch.arange(10)\n",
    "print(x)"
   ],
   "metadata": {
    "collapsed": false,
    "pycharm": {
     "name": "#%%\n"
    }
   }
  },
  {
   "cell_type": "code",
   "execution_count": 119,
   "outputs": [
    {
     "data": {
      "text/plain": "tensor([[0],\n        [1],\n        [2],\n        [3],\n        [4],\n        [5],\n        [6],\n        [7],\n        [8],\n        [9]])"
     },
     "execution_count": 119,
     "metadata": {},
     "output_type": "execute_result"
    }
   ],
   "source": [
    "x.unsqueeze(1)"
   ],
   "metadata": {
    "collapsed": false,
    "pycharm": {
     "name": "#%%\n"
    }
   }
  },
  {
   "cell_type": "code",
   "execution_count": 120,
   "outputs": [
    {
     "name": "stdout",
     "output_type": "stream",
     "text": [
      "tensor([[[0, 1, 2, 3, 4, 5, 6, 7, 8, 9]]])\n"
     ]
    }
   ],
   "source": [
    "x = torch.arange(10).unsqueeze(0).unsqueeze(1)\n",
    "print(x)"
   ],
   "metadata": {
    "collapsed": false,
    "pycharm": {
     "name": "#%%\n"
    }
   }
  },
  {
   "cell_type": "code",
   "execution_count": 121,
   "outputs": [
    {
     "name": "stdout",
     "output_type": "stream",
     "text": [
      "tensor([[0, 1, 2, 3, 4, 5, 6, 7, 8, 9]])\n"
     ]
    }
   ],
   "source": [
    "z = x.squeeze(1)\n",
    "print(z)"
   ],
   "metadata": {
    "collapsed": false,
    "pycharm": {
     "name": "#%%\n"
    }
   }
  },
  {
   "cell_type": "markdown",
   "source": [
    "[video ref](https://www.youtube.com/watch?v=x9JiIFvlUwk)"
   ],
   "metadata": {
    "collapsed": false,
    "pycharm": {
     "name": "#%% md\n"
    }
   }
  },
  {
   "cell_type": "code",
   "execution_count": null,
   "outputs": [],
   "source": [],
   "metadata": {
    "collapsed": false,
    "pycharm": {
     "name": "#%%\n"
    }
   }
  }
 ],
 "metadata": {
  "kernelspec": {
   "display_name": "Python 3.10.6 ('torch-1.12.1')",
   "language": "python",
   "name": "python3"
  },
  "language_info": {
   "codemirror_mode": {
    "name": "ipython",
    "version": 3
   },
   "file_extension": ".py",
   "mimetype": "text/x-python",
   "name": "python",
   "nbconvert_exporter": "python",
   "pygments_lexer": "ipython3",
   "version": "3.10.6"
  },
  "vscode": {
   "interpreter": {
    "hash": "1e3178fd84627fc9b229d600e91cebb94f19076bb824589ae100ad7d0273e95b"
   }
  }
 },
 "nbformat": 4,
 "nbformat_minor": 0
}