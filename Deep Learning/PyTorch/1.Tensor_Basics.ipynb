{
 "cells": [
  {
   "cell_type": "code",
   "execution_count": 1,
   "metadata": {
    "collapsed": true,
    "pycharm": {
     "name": "#%%\n"
    }
   },
   "outputs": [],
   "source": [
    "import torch"
   ]
  },
  {
   "cell_type": "markdown",
   "metadata": {
    "collapsed": false,
    "pycharm": {
     "name": "#%% md\n"
    }
   },
   "source": [
    "# initializing"
   ]
  },
  {
   "cell_type": "code",
   "execution_count": 2,
   "metadata": {
    "collapsed": false,
    "pycharm": {
     "name": "#%%\n"
    }
   },
   "outputs": [
    {
     "name": "stdout",
     "output_type": "stream",
     "text": [
      "tensor([[1, 2, 3],\n",
      "        [4, 5, 6]])\n"
     ]
    }
   ],
   "source": [
    "my_tensor = torch.tensor([[1,2,3], [4, 5, 6]])\n",
    "print(my_tensor)"
   ]
  },
  {
   "cell_type": "code",
   "execution_count": 3,
   "metadata": {
    "collapsed": false,
    "pycharm": {
     "name": "#%%\n"
    }
   },
   "outputs": [
    {
     "name": "stdout",
     "output_type": "stream",
     "text": [
      "tensor([[1., 2., 3.],\n",
      "        [4., 5., 6.]])\n"
     ]
    }
   ],
   "source": [
    "my_tensor = torch.tensor([[1,2,3], [4, 5, 6]], dtype=torch.float32)\n",
    "print(my_tensor)"
   ]
  },
  {
   "cell_type": "code",
   "execution_count": 4,
   "metadata": {
    "collapsed": false,
    "pycharm": {
     "name": "#%%\n"
    }
   },
   "outputs": [
    {
     "name": "stdout",
     "output_type": "stream",
     "text": [
      "tensor([[1., 2., 3.],\n",
      "        [4., 5., 6.]], device='cuda:0')\n"
     ]
    }
   ],
   "source": [
    "my_tensor = torch.tensor([[1,2,3], [4, 5, 6]], dtype=torch.float32, device=\"cuda\")\n",
    "print(my_tensor)"
   ]
  },
  {
   "cell_type": "code",
   "execution_count": 5,
   "metadata": {
    "collapsed": false,
    "pycharm": {
     "name": "#%%\n"
    }
   },
   "outputs": [
    {
     "name": "stdout",
     "output_type": "stream",
     "text": [
      "tensor([[1., 2., 3.],\n",
      "        [4., 5., 6.]], device='cuda:0', requires_grad=True)\n"
     ]
    }
   ],
   "source": [
    "my_tensor = torch.tensor([[1,2,3], [4, 5, 6]], dtype=torch.float32, device=\"cuda\",\n",
    "                         requires_grad=True)\n",
    "print(my_tensor)"
   ]
  },
  {
   "cell_type": "code",
   "execution_count": 6,
   "metadata": {
    "collapsed": false,
    "pycharm": {
     "name": "#%%\n"
    }
   },
   "outputs": [],
   "source": [
    "device = \"cuda\" if torch.cuda.is_available() else \"cpu\""
   ]
  },
  {
   "cell_type": "code",
   "execution_count": 7,
   "metadata": {
    "collapsed": false,
    "pycharm": {
     "name": "#%%\n"
    }
   },
   "outputs": [
    {
     "name": "stdout",
     "output_type": "stream",
     "text": [
      "tensor([[1., 2., 3.],\n",
      "        [4., 5., 6.]], device='cuda:0', requires_grad=True)\n"
     ]
    }
   ],
   "source": [
    "my_tensor = torch.tensor([[1,2,3], [4, 5, 6]], dtype=torch.float32, device=device,\n",
    "                         requires_grad=True)\n",
    "print(my_tensor)"
   ]
  },
  {
   "cell_type": "code",
   "execution_count": 8,
   "metadata": {
    "collapsed": false,
    "pycharm": {
     "name": "#%%\n"
    }
   },
   "outputs": [
    {
     "name": "stdout",
     "output_type": "stream",
     "text": [
      "torch.float32\n"
     ]
    }
   ],
   "source": [
    "print(my_tensor.dtype)"
   ]
  },
  {
   "cell_type": "code",
   "execution_count": 9,
   "metadata": {
    "collapsed": false,
    "pycharm": {
     "name": "#%%\n"
    }
   },
   "outputs": [
    {
     "name": "stdout",
     "output_type": "stream",
     "text": [
      "cuda:0\n"
     ]
    }
   ],
   "source": [
    "print(my_tensor.device)"
   ]
  },
  {
   "cell_type": "code",
   "execution_count": 10,
   "metadata": {
    "collapsed": false,
    "pycharm": {
     "name": "#%%\n"
    }
   },
   "outputs": [
    {
     "name": "stdout",
     "output_type": "stream",
     "text": [
      "torch.Size([2, 3])\n"
     ]
    }
   ],
   "source": [
    "print(my_tensor.shape)"
   ]
  },
  {
   "cell_type": "code",
   "execution_count": 11,
   "metadata": {
    "collapsed": false,
    "pycharm": {
     "name": "#%%\n"
    }
   },
   "outputs": [
    {
     "name": "stdout",
     "output_type": "stream",
     "text": [
      "tensor([[1., 2., 3.],\n",
      "        [4., 5., 6.],\n",
      "        [0., 0., 0.]], device='cuda:0', requires_grad=True)\n"
     ]
    }
   ],
   "source": [
    "x = torch.empty(size=(3,3), device=device, requires_grad=True)\n",
    "print(x)"
   ]
  },
  {
   "cell_type": "code",
   "execution_count": 12,
   "metadata": {
    "collapsed": false,
    "pycharm": {
     "name": "#%%\n"
    }
   },
   "outputs": [
    {
     "name": "stdout",
     "output_type": "stream",
     "text": [
      "tensor([[0., 0., 0.],\n",
      "        [0., 0., 0.],\n",
      "        [0., 0., 0.]], device='cuda:0', requires_grad=True)\n"
     ]
    }
   ],
   "source": [
    "x = torch.zeros(size=(3,3), device=device, requires_grad=True)\n",
    "print(x)"
   ]
  },
  {
   "cell_type": "code",
   "execution_count": 13,
   "metadata": {
    "collapsed": false,
    "pycharm": {
     "name": "#%%\n"
    }
   },
   "outputs": [
    {
     "name": "stdout",
     "output_type": "stream",
     "text": [
      "tensor([[0.6606, 0.9766, 0.7534],\n",
      "        [0.3755, 0.0244, 0.9237],\n",
      "        [0.0651, 0.3501, 0.9101]], device='cuda:0', requires_grad=True)\n"
     ]
    }
   ],
   "source": [
    "x = torch.rand(size=(3,3), device=device, requires_grad=True)\n",
    "print(x)"
   ]
  },
  {
   "cell_type": "code",
   "execution_count": 14,
   "metadata": {
    "collapsed": false,
    "pycharm": {
     "name": "#%%\n"
    }
   },
   "outputs": [
    {
     "name": "stdout",
     "output_type": "stream",
     "text": [
      "tensor([[1., 1., 1.],\n",
      "        [1., 1., 1.],\n",
      "        [1., 1., 1.]], device='cuda:0', requires_grad=True)\n"
     ]
    }
   ],
   "source": [
    "x = torch.ones(size=(3,3), device=device, requires_grad=True)\n",
    "print(x)"
   ]
  },
  {
   "cell_type": "code",
   "execution_count": 15,
   "metadata": {
    "collapsed": false,
    "pycharm": {
     "name": "#%%\n"
    }
   },
   "outputs": [
    {
     "name": "stdout",
     "output_type": "stream",
     "text": [
      "tensor([[1., 0., 0., 0., 0.],\n",
      "        [0., 1., 0., 0., 0.],\n",
      "        [0., 0., 1., 0., 0.],\n",
      "        [0., 0., 0., 1., 0.],\n",
      "        [0., 0., 0., 0., 1.]], device='cuda:0', requires_grad=True)\n"
     ]
    }
   ],
   "source": [
    "x = torch.eye(5,5, device=device, requires_grad=True)\n",
    "print(x)"
   ]
  },
  {
   "cell_type": "code",
   "execution_count": 16,
   "metadata": {
    "collapsed": false,
    "pycharm": {
     "name": "#%%\n"
    }
   },
   "outputs": [
    {
     "name": "stdout",
     "output_type": "stream",
     "text": [
      "tensor([0, 2, 4, 6, 8], device='cuda:0')\n"
     ]
    }
   ],
   "source": [
    "x = torch.arange(start=0,end=10, step=2, device=device)\n",
    "print(x)"
   ]
  },
  {
   "cell_type": "code",
   "execution_count": 17,
   "metadata": {
    "collapsed": false,
    "pycharm": {
     "name": "#%%\n"
    }
   },
   "outputs": [
    {
     "name": "stdout",
     "output_type": "stream",
     "text": [
      "tensor([0.1000, 0.2000, 0.3000, 0.4000, 0.5000, 0.6000, 0.7000, 0.8000, 0.9000,\n",
      "        1.0000], device='cuda:0')\n"
     ]
    }
   ],
   "source": [
    "x = torch.linspace(start=0.1, end=1, steps=10, device=device)\n",
    "print(x)"
   ]
  },
  {
   "cell_type": "code",
   "execution_count": 18,
   "metadata": {
    "collapsed": false,
    "pycharm": {
     "name": "#%%\n"
    }
   },
   "outputs": [
    {
     "name": "stdout",
     "output_type": "stream",
     "text": [
      "tensor([[ 0.2624,  1.3417,  0.5701,  1.5768, -1.2506]], device='cuda:0')\n"
     ]
    }
   ],
   "source": [
    "x = torch.empty(size=(1, 5), device=device).normal_(mean=0, std=1)\n",
    "print(x)"
   ]
  },
  {
   "cell_type": "code",
   "execution_count": 19,
   "metadata": {
    "collapsed": false,
    "pycharm": {
     "name": "#%%\n"
    }
   },
   "outputs": [
    {
     "name": "stdout",
     "output_type": "stream",
     "text": [
      "tensor([[0.6428, 0.5159, 0.3025, 0.1297, 0.3212]], device='cuda:0')\n"
     ]
    }
   ],
   "source": [
    "x = torch.empty(size=(1, 5), device=device).uniform_(0, 1)\n",
    "print(x)"
   ]
  },
  {
   "cell_type": "code",
   "execution_count": 20,
   "metadata": {
    "collapsed": false,
    "pycharm": {
     "name": "#%%\n"
    }
   },
   "outputs": [
    {
     "name": "stdout",
     "output_type": "stream",
     "text": [
      "tensor([[1., 0., 0.],\n",
      "        [0., 1., 0.],\n",
      "        [0., 0., 1.]])\n"
     ]
    }
   ],
   "source": [
    "x = torch.diag(torch.ones(3))\n",
    "print(x)"
   ]
  },
  {
   "cell_type": "markdown",
   "metadata": {
    "collapsed": false,
    "pycharm": {
     "name": "#%% md\n"
    }
   },
   "source": [
    "## convert types"
   ]
  },
  {
   "cell_type": "code",
   "execution_count": 21,
   "metadata": {
    "collapsed": false,
    "pycharm": {
     "name": "#%%\n"
    }
   },
   "outputs": [
    {
     "name": "stdout",
     "output_type": "stream",
     "text": [
      "tensor([0, 1, 2, 3], device='cuda:0')\n"
     ]
    }
   ],
   "source": [
    "tensor = torch.arange(4, device=device)\n",
    "print(tensor)"
   ]
  },
  {
   "cell_type": "code",
   "execution_count": 22,
   "metadata": {
    "collapsed": false,
    "pycharm": {
     "name": "#%%\n"
    }
   },
   "outputs": [
    {
     "name": "stdout",
     "output_type": "stream",
     "text": [
      "tensor([False,  True,  True,  True], device='cuda:0')\n"
     ]
    }
   ],
   "source": [
    "print(tensor.bool())"
   ]
  },
  {
   "cell_type": "code",
   "execution_count": 23,
   "metadata": {
    "collapsed": false,
    "pycharm": {
     "name": "#%%\n"
    }
   },
   "outputs": [
    {
     "name": "stdout",
     "output_type": "stream",
     "text": [
      "tensor([0, 1, 2, 3], device='cuda:0', dtype=torch.int16)\n"
     ]
    }
   ],
   "source": [
    "print(tensor.short())"
   ]
  },
  {
   "cell_type": "code",
   "execution_count": 24,
   "metadata": {
    "collapsed": false,
    "pycharm": {
     "name": "#%%\n"
    }
   },
   "outputs": [
    {
     "name": "stdout",
     "output_type": "stream",
     "text": [
      "tensor([0, 1, 2, 3], device='cuda:0')\n",
      "torch.int64\n"
     ]
    }
   ],
   "source": [
    "print(tensor.long())\n",
    "print(tensor.long().dtype)"
   ]
  },
  {
   "cell_type": "code",
   "execution_count": 25,
   "metadata": {
    "collapsed": false,
    "pycharm": {
     "name": "#%%\n"
    }
   },
   "outputs": [
    {
     "name": "stdout",
     "output_type": "stream",
     "text": [
      "tensor([0., 1., 2., 3.], device='cuda:0', dtype=torch.float16)\n"
     ]
    }
   ],
   "source": [
    "print(tensor.half())"
   ]
  },
  {
   "cell_type": "code",
   "execution_count": 26,
   "metadata": {
    "collapsed": false,
    "pycharm": {
     "name": "#%%\n"
    }
   },
   "outputs": [
    {
     "name": "stdout",
     "output_type": "stream",
     "text": [
      "tensor([0., 1., 2., 3.], device='cuda:0')\n",
      "torch.float32\n"
     ]
    }
   ],
   "source": [
    "print(tensor.float())\n",
    "print(tensor.float().dtype)"
   ]
  },
  {
   "cell_type": "code",
   "execution_count": 27,
   "metadata": {
    "collapsed": false,
    "pycharm": {
     "name": "#%%\n"
    }
   },
   "outputs": [
    {
     "name": "stdout",
     "output_type": "stream",
     "text": [
      "tensor([0., 1., 2., 3.], device='cuda:0', dtype=torch.float64)\n"
     ]
    }
   ],
   "source": [
    "print(tensor.double())"
   ]
  },
  {
   "cell_type": "code",
   "execution_count": 28,
   "metadata": {
    "collapsed": false,
    "pycharm": {
     "name": "#%%\n"
    }
   },
   "outputs": [],
   "source": [
    "import numpy as np"
   ]
  },
  {
   "cell_type": "code",
   "execution_count": 29,
   "metadata": {
    "collapsed": false,
    "pycharm": {
     "name": "#%%\n"
    }
   },
   "outputs": [
    {
     "name": "stdout",
     "output_type": "stream",
     "text": [
      "[[0. 0. 0. 0. 0.]\n",
      " [0. 0. 0. 0. 0.]\n",
      " [0. 0. 0. 0. 0.]\n",
      " [0. 0. 0. 0. 0.]\n",
      " [0. 0. 0. 0. 0.]]\n",
      "tensor([[0., 0., 0., 0., 0.],\n",
      "        [0., 0., 0., 0., 0.],\n",
      "        [0., 0., 0., 0., 0.],\n",
      "        [0., 0., 0., 0., 0.],\n",
      "        [0., 0., 0., 0., 0.]], device='cuda:0', dtype=torch.float64)\n"
     ]
    }
   ],
   "source": [
    "np_array = np.zeros((5, 5))\n",
    "print(np_array)\n",
    "tensor = torch.from_numpy(np_array).cuda()\n",
    "print(tensor)"
   ]
  },
  {
   "cell_type": "code",
   "execution_count": 30,
   "metadata": {
    "collapsed": false,
    "pycharm": {
     "name": "#%%\n"
    }
   },
   "outputs": [
    {
     "name": "stdout",
     "output_type": "stream",
     "text": [
      "[[0. 0. 0. 0. 0.]\n",
      " [0. 0. 0. 0. 0.]\n",
      " [0. 0. 0. 0. 0.]\n",
      " [0. 0. 0. 0. 0.]\n",
      " [0. 0. 0. 0. 0.]]\n"
     ]
    }
   ],
   "source": [
    "np_array_back = tensor.cpu().numpy()\n",
    "print(np_array_back)"
   ]
  },
  {
   "cell_type": "markdown",
   "source": [
    "# Tensor Math"
   ],
   "metadata": {
    "collapsed": false,
    "pycharm": {
     "name": "#%% md\n"
    }
   },
   "execution_count": 1
  },
  {
   "cell_type": "code",
   "execution_count": 31,
   "outputs": [],
   "source": [
    "x = torch.tensor([1, 2, 3], device=device)\n",
    "y = torch.tensor([9, 8, 7], device=device)"
   ],
   "metadata": {
    "collapsed": false,
    "pycharm": {
     "name": "#%%\n"
    }
   }
  },
  {
   "cell_type": "code",
   "execution_count": 32,
   "outputs": [
    {
     "name": "stdout",
     "output_type": "stream",
     "text": [
      "tensor([2.3694e-38, 2.3694e-38, 2.3694e-38], device='cuda:0')\n"
     ]
    }
   ],
   "source": [
    "z = torch.empty(3, device=device)\n",
    "print(z)"
   ],
   "metadata": {
    "collapsed": false,
    "pycharm": {
     "name": "#%%\n"
    }
   }
  },
  {
   "cell_type": "code",
   "execution_count": 33,
   "outputs": [
    {
     "name": "stdout",
     "output_type": "stream",
     "text": [
      "tensor([10., 10., 10.], device='cuda:0')\n"
     ]
    }
   ],
   "source": [
    "torch.add(x, y, out=z)\n",
    "print(z)"
   ],
   "metadata": {
    "collapsed": false,
    "pycharm": {
     "name": "#%%\n"
    }
   }
  },
  {
   "cell_type": "code",
   "execution_count": 34,
   "outputs": [
    {
     "name": "stdout",
     "output_type": "stream",
     "text": [
      "tensor([10, 10, 10], device='cuda:0')\n"
     ]
    }
   ],
   "source": [
    "z = torch.add(x, y)\n",
    "print(z)"
   ],
   "metadata": {
    "collapsed": false,
    "pycharm": {
     "name": "#%%\n"
    }
   }
  },
  {
   "cell_type": "code",
   "execution_count": 35,
   "outputs": [
    {
     "name": "stdout",
     "output_type": "stream",
     "text": [
      "tensor([10, 10, 10], device='cuda:0')\n"
     ]
    }
   ],
   "source": [
    "z = x + y\n",
    "print(z)"
   ],
   "metadata": {
    "collapsed": false,
    "pycharm": {
     "name": "#%%\n"
    }
   }
  },
  {
   "cell_type": "code",
   "execution_count": 36,
   "outputs": [
    {
     "name": "stdout",
     "output_type": "stream",
     "text": [
      "tensor([-8, -6, -4], device='cuda:0')\n"
     ]
    }
   ],
   "source": [
    "torch.subtract(x, y, out=z)\n",
    "print(z)"
   ],
   "metadata": {
    "collapsed": false,
    "pycharm": {
     "name": "#%%\n"
    }
   }
  },
  {
   "cell_type": "code",
   "execution_count": 37,
   "outputs": [
    {
     "name": "stdout",
     "output_type": "stream",
     "text": [
      "tensor([-8, -6, -4], device='cuda:0')\n"
     ]
    }
   ],
   "source": [
    "z = torch.subtract(x, y)\n",
    "print(z)"
   ],
   "metadata": {
    "collapsed": false,
    "pycharm": {
     "name": "#%%\n"
    }
   }
  },
  {
   "cell_type": "code",
   "execution_count": 38,
   "outputs": [
    {
     "name": "stdout",
     "output_type": "stream",
     "text": [
      "tensor([-8, -6, -4], device='cuda:0')\n"
     ]
    }
   ],
   "source": [
    "z = x - y\n",
    "print(z)"
   ],
   "metadata": {
    "collapsed": false,
    "pycharm": {
     "name": "#%%\n"
    }
   }
  },
  {
   "cell_type": "code",
   "execution_count": 39,
   "outputs": [
    {
     "name": "stdout",
     "output_type": "stream",
     "text": [
      "tensor([0.1111, 0.2500, 0.4286], device='cuda:0')\n"
     ]
    }
   ],
   "source": [
    "z = torch.true_divide(x, y)\n",
    "print(z)"
   ],
   "metadata": {
    "collapsed": false,
    "pycharm": {
     "name": "#%%\n"
    }
   }
  },
  {
   "cell_type": "code",
   "execution_count": 40,
   "outputs": [
    {
     "name": "stdout",
     "output_type": "stream",
     "text": [
      "tensor([0.5000, 1.0000, 1.5000], device='cuda:0')\n"
     ]
    }
   ],
   "source": [
    "z = torch.true_divide(x, 2)\n",
    "print(z)"
   ],
   "metadata": {
    "collapsed": false,
    "pycharm": {
     "name": "#%%\n"
    }
   }
  },
  {
   "cell_type": "code",
   "execution_count": 41,
   "outputs": [
    {
     "name": "stdout",
     "output_type": "stream",
     "text": [
      "tensor([0., 0., 0.], device='cuda:0')\n",
      "tensor([1., 2., 3.], device='cuda:0')\n"
     ]
    }
   ],
   "source": [
    "# inplace\n",
    "t = torch.zeros(3, device=device)\n",
    "print(t)\n",
    "t.add_(x)\n",
    "print(t)"
   ],
   "metadata": {
    "collapsed": false,
    "pycharm": {
     "name": "#%%\n"
    }
   }
  },
  {
   "cell_type": "code",
   "execution_count": 42,
   "outputs": [
    {
     "name": "stdout",
     "output_type": "stream",
     "text": [
      "tensor([0., 0., 0.], device='cuda:0')\n",
      "tensor([1., 2., 3.], device='cuda:0')\n"
     ]
    }
   ],
   "source": [
    "t = torch.zeros(3, device=device)\n",
    "print(t)\n",
    "t += x\n",
    "print(t)"
   ],
   "metadata": {
    "collapsed": false,
    "pycharm": {
     "name": "#%%\n"
    }
   }
  },
  {
   "cell_type": "code",
   "execution_count": 43,
   "outputs": [
    {
     "name": "stdout",
     "output_type": "stream",
     "text": [
      "tensor([1, 4, 9], device='cuda:0')\n"
     ]
    }
   ],
   "source": [
    "z = x.pow(2)\n",
    "print(z)"
   ],
   "metadata": {
    "collapsed": false,
    "pycharm": {
     "name": "#%%\n"
    }
   }
  },
  {
   "cell_type": "code",
   "execution_count": 44,
   "outputs": [
    {
     "name": "stdout",
     "output_type": "stream",
     "text": [
      "tensor([1, 4, 9], device='cuda:0')\n"
     ]
    }
   ],
   "source": [
    "z = x ** 2\n",
    "print(z)"
   ],
   "metadata": {
    "collapsed": false,
    "pycharm": {
     "name": "#%%\n"
    }
   }
  },
  {
   "cell_type": "code",
   "execution_count": 45,
   "outputs": [
    {
     "name": "stdout",
     "output_type": "stream",
     "text": [
      "tensor([True, True, True], device='cuda:0')\n"
     ]
    }
   ],
   "source": [
    "z = x > 0\n",
    "print(z)"
   ],
   "metadata": {
    "collapsed": false,
    "pycharm": {
     "name": "#%%\n"
    }
   }
  },
  {
   "cell_type": "code",
   "execution_count": 46,
   "outputs": [
    {
     "name": "stdout",
     "output_type": "stream",
     "text": [
      "tensor([False, False, False], device='cuda:0')\n"
     ]
    }
   ],
   "source": [
    "z = x < 0\n",
    "print(z)"
   ],
   "metadata": {
    "collapsed": false,
    "pycharm": {
     "name": "#%%\n"
    }
   }
  },
  {
   "cell_type": "code",
   "execution_count": 47,
   "outputs": [],
   "source": [
    "x1 = torch.rand(size=(2, 5), device=device)\n",
    "x2 = torch.rand(size=(5, 3), device=device)"
   ],
   "metadata": {
    "collapsed": false,
    "pycharm": {
     "name": "#%%\n"
    }
   }
  },
  {
   "cell_type": "code",
   "execution_count": 48,
   "outputs": [
    {
     "name": "stdout",
     "output_type": "stream",
     "text": [
      "tensor([[1.4605, 1.1563, 1.2490],\n",
      "        [1.7167, 1.4920, 1.3881]], device='cuda:0')\n"
     ]
    }
   ],
   "source": [
    "x3 = torch.mm(x1, x2)\n",
    "print(x3)"
   ],
   "metadata": {
    "collapsed": false,
    "pycharm": {
     "name": "#%%\n"
    }
   }
  },
  {
   "cell_type": "code",
   "execution_count": 49,
   "outputs": [
    {
     "name": "stdout",
     "output_type": "stream",
     "text": [
      "tensor([[1.4605, 1.1563, 1.2490],\n",
      "        [1.7167, 1.4920, 1.3881]], device='cuda:0')\n"
     ]
    }
   ],
   "source": [
    "x3 = x1.mm(x2)\n",
    "print(x3)"
   ],
   "metadata": {
    "collapsed": false,
    "pycharm": {
     "name": "#%%\n"
    }
   }
  },
  {
   "cell_type": "code",
   "execution_count": 50,
   "outputs": [
    {
     "name": "stdout",
     "output_type": "stream",
     "text": [
      "tensor([[1.8956, 3.6844, 2.9428, 3.4917, 3.0106],\n",
      "        [2.9475, 5.8960, 4.6783, 5.6190, 4.7472],\n",
      "        [3.3984, 6.6487, 5.2690, 6.3013, 5.3537],\n",
      "        [2.9680, 5.7429, 4.5734, 5.4260, 4.6518],\n",
      "        [2.0619, 4.1180, 3.2853, 3.9245, 3.3409]], device='cuda:0')\n"
     ]
    }
   ],
   "source": [
    "matrix_exp = torch.rand(size=(5, 5), device=device)\n",
    "x = matrix_exp.matrix_power(3)\n",
    "print(x)"
   ],
   "metadata": {
    "collapsed": false,
    "pycharm": {
     "name": "#%%\n"
    }
   }
  },
  {
   "cell_type": "code",
   "execution_count": 51,
   "outputs": [
    {
     "name": "stdout",
     "output_type": "stream",
     "text": [
      "tensor([ 9., 16., 21.], device='cuda:0')\n"
     ]
    }
   ],
   "source": [
    "x = torch.tensor([1, 2, 3], device=device, dtype=torch.float32)\n",
    "y = torch.tensor([9, 8, 7], device=device, dtype=torch.float32)\n",
    "z = x * y\n",
    "print(z)"
   ],
   "metadata": {
    "collapsed": false,
    "pycharm": {
     "name": "#%%\n"
    }
   }
  },
  {
   "cell_type": "code",
   "execution_count": 52,
   "outputs": [
    {
     "name": "stdout",
     "output_type": "stream",
     "text": [
      "tensor(46., device='cuda:0')\n"
     ]
    }
   ],
   "source": [
    "z = x @ y\n",
    "print(z)"
   ],
   "metadata": {
    "collapsed": false,
    "pycharm": {
     "name": "#%%\n"
    }
   }
  },
  {
   "cell_type": "code",
   "execution_count": 53,
   "outputs": [],
   "source": [
    "batch = 32\n",
    "n = 10\n",
    "m = 20\n",
    "p = 30"
   ],
   "metadata": {
    "collapsed": false,
    "pycharm": {
     "name": "#%%\n"
    }
   }
  },
  {
   "cell_type": "code",
   "execution_count": 54,
   "outputs": [],
   "source": [
    "tensor1 = torch.rand(size=(batch, n, m))\n",
    "tensor2 = torch.rand(size=(batch, m, p))"
   ],
   "metadata": {
    "collapsed": false,
    "pycharm": {
     "name": "#%%\n"
    }
   }
  },
  {
   "cell_type": "code",
   "execution_count": 55,
   "outputs": [
    {
     "name": "stdout",
     "output_type": "stream",
     "text": [
      "tensor([[[4.6921, 4.7139, 5.9440,  ..., 5.1540, 5.3884, 4.6632],\n",
      "         [5.2749, 4.9764, 5.0974,  ..., 5.8602, 4.9896, 4.7105],\n",
      "         [4.4598, 3.6652, 5.3172,  ..., 5.5857, 4.6923, 4.0505],\n",
      "         ...,\n",
      "         [4.5735, 3.6323, 4.1373,  ..., 3.5163, 4.6811, 3.9947],\n",
      "         [3.5413, 3.7478, 4.3632,  ..., 4.2603, 4.5535, 4.7084],\n",
      "         [4.5070, 4.2959, 5.0581,  ..., 5.3175, 5.1965, 4.2793]],\n",
      "\n",
      "        [[5.5718, 4.7122, 3.8230,  ..., 5.2944, 4.9062, 4.4028],\n",
      "         [7.4324, 5.6986, 4.8842,  ..., 5.0563, 6.7229, 6.3127],\n",
      "         [5.5758, 4.1105, 4.0878,  ..., 3.6491, 5.1939, 4.4830],\n",
      "         ...,\n",
      "         [6.4386, 4.9854, 5.0872,  ..., 4.8446, 6.9300, 5.2621],\n",
      "         [6.1198, 4.5241, 4.7225,  ..., 4.8551, 5.8246, 5.9899],\n",
      "         [5.5886, 4.4486, 5.1727,  ..., 4.5064, 5.9254, 4.7717]],\n",
      "\n",
      "        [[5.2479, 3.1215, 5.3576,  ..., 3.8315, 4.6441, 5.2102],\n",
      "         [4.3048, 3.0261, 5.0714,  ..., 3.4908, 4.5398, 5.2515],\n",
      "         [4.7897, 2.7793, 5.1873,  ..., 3.6156, 4.6369, 5.7079],\n",
      "         ...,\n",
      "         [4.9054, 2.8416, 5.3602,  ..., 3.4787, 4.6797, 5.5327],\n",
      "         [4.7902, 2.6428, 4.9269,  ..., 3.2107, 3.8954, 5.1200],\n",
      "         [4.8053, 2.9976, 4.7893,  ..., 3.9245, 4.0544, 5.1294]],\n",
      "\n",
      "        ...,\n",
      "\n",
      "        [[3.9281, 3.8090, 4.2100,  ..., 4.1280, 3.7575, 4.4521],\n",
      "         [5.7131, 4.3939, 5.1232,  ..., 6.8591, 5.2681, 5.6781],\n",
      "         [4.9994, 4.3815, 5.4325,  ..., 5.7725, 4.3247, 6.6377],\n",
      "         ...,\n",
      "         [3.8692, 3.2762, 4.8468,  ..., 5.3770, 4.4101, 5.2381],\n",
      "         [5.1298, 3.6354, 4.9076,  ..., 5.6914, 4.6294, 5.3494],\n",
      "         [6.1618, 4.4200, 5.5603,  ..., 6.0000, 5.7220, 7.6040]],\n",
      "\n",
      "        [[4.0840, 3.8552, 5.1136,  ..., 3.9777, 3.7477, 4.5072],\n",
      "         [4.4598, 4.7398, 5.8879,  ..., 4.6944, 4.3243, 4.4222],\n",
      "         [3.6312, 4.9449, 4.4281,  ..., 4.5457, 3.7177, 3.9230],\n",
      "         ...,\n",
      "         [5.4242, 4.2201, 5.3785,  ..., 5.1758, 5.2557, 5.1351],\n",
      "         [3.2930, 3.3976, 3.8716,  ..., 3.6434, 3.1235, 3.8809],\n",
      "         [3.1986, 3.0838, 3.4614,  ..., 3.1524, 3.2314, 3.2362]],\n",
      "\n",
      "        [[5.4007, 4.2127, 5.9345,  ..., 6.0700, 5.2007, 3.8522],\n",
      "         [5.5891, 3.6324, 5.0239,  ..., 4.4231, 4.3701, 3.5999],\n",
      "         [5.2303, 3.6733, 4.4744,  ..., 5.0903, 4.2686, 3.1226],\n",
      "         ...,\n",
      "         [5.4617, 3.2990, 4.2170,  ..., 4.5126, 4.4772, 2.9493],\n",
      "         [4.5092, 2.4176, 3.1996,  ..., 3.1606, 3.2655, 3.2110],\n",
      "         [5.5100, 3.8535, 5.2583,  ..., 5.3423, 5.1832, 3.8654]]])\n"
     ]
    }
   ],
   "source": [
    "out_bmm = torch.bmm(tensor1, tensor2)\n",
    "print(out_bmm)"
   ],
   "metadata": {
    "collapsed": false,
    "pycharm": {
     "name": "#%%\n"
    }
   }
  },
  {
   "cell_type": "markdown",
   "source": [
    "## Broadcasting"
   ],
   "metadata": {
    "collapsed": false,
    "pycharm": {
     "name": "#%% md\n"
    }
   }
  },
  {
   "cell_type": "code",
   "execution_count": 56,
   "outputs": [
    {
     "name": "stdout",
     "output_type": "stream",
     "text": [
      "tensor([[0.5193, 0.6521, 0.5383, 0.6302, 0.4239],\n",
      "        [0.4713, 0.9010, 0.8007, 0.2071, 0.7842],\n",
      "        [0.4140, 0.5725, 0.4511, 0.9131, 0.7874],\n",
      "        [0.6454, 0.5112, 0.9257, 0.2349, 0.5441],\n",
      "        [0.4038, 0.0105, 0.4845, 0.6871, 0.4058]])\n",
      "tensor([[0.4777, 0.7164, 0.9486, 0.0486, 0.4922]])\n"
     ]
    }
   ],
   "source": [
    "x1 = torch.rand(size=(5, 5))\n",
    "x2 = torch.rand(size=(1, 5))\n",
    "print(x1)\n",
    "print(x2)"
   ],
   "metadata": {
    "collapsed": false,
    "pycharm": {
     "name": "#%%\n"
    }
   }
  },
  {
   "cell_type": "code",
   "execution_count": 57,
   "outputs": [
    {
     "name": "stdout",
     "output_type": "stream",
     "text": [
      "tensor([[ 0.0416, -0.0643, -0.4102,  0.5816, -0.0683],\n",
      "        [-0.0064,  0.1846, -0.1479,  0.1586,  0.2920],\n",
      "        [-0.0637, -0.1439, -0.4974,  0.8645,  0.2952],\n",
      "        [ 0.1677, -0.2052, -0.0229,  0.1863,  0.0519],\n",
      "        [-0.0739, -0.7058, -0.4641,  0.6385, -0.0864]])\n"
     ]
    }
   ],
   "source": [
    "z = x1 - x2\n",
    "print(z)"
   ],
   "metadata": {
    "collapsed": false,
    "pycharm": {
     "name": "#%%\n"
    }
   }
  },
  {
   "cell_type": "code",
   "execution_count": 58,
   "outputs": [
    {
     "name": "stdout",
     "output_type": "stream",
     "text": [
      "tensor([[0.7312, 0.7362, 0.5558, 0.9778, 0.6555],\n",
      "        [0.6981, 0.9280, 0.8099, 0.9264, 0.8872],\n",
      "        [0.6562, 0.6706, 0.4700, 0.9956, 0.8890],\n",
      "        [0.8113, 0.6184, 0.9294, 0.9321, 0.7411],\n",
      "        [0.6485, 0.0384, 0.5029, 0.9819, 0.6415]])\n"
     ]
    }
   ],
   "source": [
    "z = x1 ** x2\n",
    "print(z)"
   ],
   "metadata": {
    "collapsed": false,
    "pycharm": {
     "name": "#%%\n"
    }
   }
  },
  {
   "cell_type": "markdown",
   "source": [
    "## other useful operations"
   ],
   "metadata": {
    "collapsed": false,
    "pycharm": {
     "name": "#%% md\n"
    }
   }
  },
  {
   "cell_type": "code",
   "execution_count": 59,
   "outputs": [
    {
     "name": "stdout",
     "output_type": "stream",
     "text": [
      "tensor(6., device='cuda:0')\n"
     ]
    }
   ],
   "source": [
    "sum_x = torch.sum(x, dim=0)\n",
    "print(sum_x)"
   ],
   "metadata": {
    "collapsed": false,
    "pycharm": {
     "name": "#%%\n"
    }
   }
  },
  {
   "cell_type": "code",
   "execution_count": 60,
   "outputs": [
    {
     "name": "stdout",
     "output_type": "stream",
     "text": [
      "tensor([1., 2., 3.], device='cuda:0')\n",
      "tensor(3., device='cuda:0') tensor(2, device='cuda:0')\n"
     ]
    }
   ],
   "source": [
    "print(x)\n",
    "values, indices = torch.max(x, dim=0)\n",
    "print(values, indices)"
   ],
   "metadata": {
    "collapsed": false,
    "pycharm": {
     "name": "#%%\n"
    }
   }
  },
  {
   "cell_type": "code",
   "execution_count": 61,
   "outputs": [
    {
     "name": "stdout",
     "output_type": "stream",
     "text": [
      "tensor(1., device='cuda:0') tensor(0, device='cuda:0')\n"
     ]
    }
   ],
   "source": [
    "values, indices = torch.min(x, dim=0)\n",
    "print(values, indices)"
   ],
   "metadata": {
    "collapsed": false,
    "pycharm": {
     "name": "#%%\n"
    }
   }
  },
  {
   "cell_type": "code",
   "execution_count": 62,
   "outputs": [
    {
     "name": "stdout",
     "output_type": "stream",
     "text": [
      "tensor([1., 2., 3.], device='cuda:0')\n"
     ]
    }
   ],
   "source": [
    "abs_x = torch.abs(x)\n",
    "print(abs_x)"
   ],
   "metadata": {
    "collapsed": false,
    "pycharm": {
     "name": "#%%\n"
    }
   }
  },
  {
   "cell_type": "code",
   "execution_count": 63,
   "outputs": [
    {
     "name": "stdout",
     "output_type": "stream",
     "text": [
      "tensor(2, device='cuda:0')\n"
     ]
    }
   ],
   "source": [
    "z = torch.argmax(x, dim=0) # only index\n",
    "print(z)"
   ],
   "metadata": {
    "collapsed": false,
    "pycharm": {
     "name": "#%%\n"
    }
   }
  },
  {
   "cell_type": "code",
   "execution_count": 64,
   "outputs": [
    {
     "name": "stdout",
     "output_type": "stream",
     "text": [
      "tensor(0, device='cuda:0')\n"
     ]
    }
   ],
   "source": [
    "z = torch.argmin(x, dim=0) # only index\n",
    "print(z)"
   ],
   "metadata": {
    "collapsed": false,
    "pycharm": {
     "name": "#%%\n"
    }
   }
  },
  {
   "cell_type": "code",
   "execution_count": 65,
   "outputs": [
    {
     "name": "stdout",
     "output_type": "stream",
     "text": [
      "tensor(2., device='cuda:0')\n"
     ]
    }
   ],
   "source": [
    "mean_x = torch.mean(x.float(), dim=0)\n",
    "print(mean_x)"
   ],
   "metadata": {
    "collapsed": false,
    "pycharm": {
     "name": "#%%\n"
    }
   }
  },
  {
   "cell_type": "code",
   "execution_count": 66,
   "outputs": [
    {
     "name": "stdout",
     "output_type": "stream",
     "text": [
      "tensor([False, False, False], device='cuda:0')\n"
     ]
    }
   ],
   "source": [
    "z = torch.eq(x, y)\n",
    "print(z)"
   ],
   "metadata": {
    "collapsed": false,
    "pycharm": {
     "name": "#%%\n"
    }
   }
  },
  {
   "cell_type": "code",
   "execution_count": 67,
   "outputs": [
    {
     "name": "stdout",
     "output_type": "stream",
     "text": [
      "tensor([7., 8., 9.], device='cuda:0') tensor([2, 1, 0], device='cuda:0')\n"
     ]
    }
   ],
   "source": [
    "sorted_y, indices = torch.sort(y, dim=0, descending=False)\n",
    "print(sorted_y, indices)"
   ],
   "metadata": {
    "collapsed": false,
    "pycharm": {
     "name": "#%%\n"
    }
   }
  },
  {
   "cell_type": "code",
   "execution_count": 68,
   "outputs": [
    {
     "name": "stdout",
     "output_type": "stream",
     "text": [
      "tensor([[8.3085, 1.6077, 2.5288, 4.2500, 7.4923, 6.9717, 6.7579, 3.2992, 0.4786,\n",
      "         9.8067]], device='cuda:0')\n"
     ]
    }
   ],
   "source": [
    "x4 = torch.rand(size=(1, 10), device=device) * 10\n",
    "print(x4)"
   ],
   "metadata": {
    "collapsed": false,
    "pycharm": {
     "name": "#%%\n"
    }
   }
  },
  {
   "cell_type": "code",
   "execution_count": 69,
   "outputs": [
    {
     "name": "stdout",
     "output_type": "stream",
     "text": [
      "tensor([[8.0000, 4.0000, 4.0000, 4.2500, 7.4923, 6.9717, 6.7579, 4.0000, 4.0000,\n",
      "         8.0000]], device='cuda:0')\n"
     ]
    }
   ],
   "source": [
    "z = torch.clamp(x4, min=4, max=8)\n",
    "print(z)"
   ],
   "metadata": {
    "collapsed": false,
    "pycharm": {
     "name": "#%%\n"
    }
   }
  },
  {
   "cell_type": "code",
   "execution_count": 70,
   "outputs": [
    {
     "name": "stdout",
     "output_type": "stream",
     "text": [
      "tensor(True, device='cuda:0')\n"
     ]
    }
   ],
   "source": [
    "x = torch.tensor([1, 0, 1, 1, 1], device=device, dtype=torch.bool)\n",
    "z = torch.any(x)\n",
    "print(z)"
   ],
   "metadata": {
    "collapsed": false,
    "pycharm": {
     "name": "#%%\n"
    }
   }
  },
  {
   "cell_type": "code",
   "execution_count": 71,
   "outputs": [
    {
     "name": "stdout",
     "output_type": "stream",
     "text": [
      "tensor(False, device='cuda:0')\n"
     ]
    }
   ],
   "source": [
    "z = torch.all(x)\n",
    "print(z)"
   ],
   "metadata": {
    "collapsed": false,
    "pycharm": {
     "name": "#%%\n"
    }
   }
  },
  {
   "cell_type": "markdown",
   "source": [
    "# Tensor Indexing"
   ],
   "metadata": {
    "collapsed": false,
    "pycharm": {
     "name": "#%% md\n"
    }
   }
  },
  {
   "cell_type": "code",
   "execution_count": 72,
   "outputs": [],
   "source": [
    "batch_size = 10\n",
    "features = 25\n",
    "x = torch.rand(size=(batch_size, features), device=device)"
   ],
   "metadata": {
    "collapsed": false,
    "pycharm": {
     "name": "#%%\n"
    }
   }
  },
  {
   "cell_type": "code",
   "execution_count": 73,
   "outputs": [
    {
     "data": {
      "text/plain": "tensor([0.2046, 0.7710, 0.9180, 0.1779, 0.3840, 0.3773, 0.4043, 0.4724, 0.5085,\n        0.3315, 0.2738, 0.4675, 0.0176, 0.3994, 0.5544, 0.1129, 0.7681, 0.6538,\n        0.2336, 0.3271, 0.5677, 0.4471, 0.6301, 0.7359, 0.7168],\n       device='cuda:0')"
     },
     "execution_count": 73,
     "metadata": {},
     "output_type": "execute_result"
    }
   ],
   "source": [
    "x[0, :]"
   ],
   "metadata": {
    "collapsed": false,
    "pycharm": {
     "name": "#%%\n"
    }
   }
  },
  {
   "cell_type": "code",
   "execution_count": 74,
   "outputs": [
    {
     "data": {
      "text/plain": "tensor([0.2046, 0.7710, 0.9180, 0.1779, 0.3840, 0.3773, 0.4043, 0.4724, 0.5085,\n        0.3315, 0.2738, 0.4675, 0.0176, 0.3994, 0.5544, 0.1129, 0.7681, 0.6538,\n        0.2336, 0.3271, 0.5677, 0.4471, 0.6301, 0.7359, 0.7168],\n       device='cuda:0')"
     },
     "execution_count": 74,
     "metadata": {},
     "output_type": "execute_result"
    }
   ],
   "source": [
    "x[0]"
   ],
   "metadata": {
    "collapsed": false,
    "pycharm": {
     "name": "#%%\n"
    }
   }
  },
  {
   "cell_type": "code",
   "execution_count": 75,
   "outputs": [
    {
     "data": {
      "text/plain": "torch.Size([25])"
     },
     "execution_count": 75,
     "metadata": {},
     "output_type": "execute_result"
    }
   ],
   "source": [
    "x[0].shape"
   ],
   "metadata": {
    "collapsed": false,
    "pycharm": {
     "name": "#%%\n"
    }
   }
  },
  {
   "cell_type": "code",
   "execution_count": 76,
   "outputs": [
    {
     "data": {
      "text/plain": "tensor([0.2046, 0.2094, 0.1883, 0.8672, 0.8146, 0.2251, 0.4933, 0.8700, 0.9102,\n        0.7951], device='cuda:0')"
     },
     "execution_count": 76,
     "metadata": {},
     "output_type": "execute_result"
    }
   ],
   "source": [
    "x[:, 0]"
   ],
   "metadata": {
    "collapsed": false,
    "pycharm": {
     "name": "#%%\n"
    }
   }
  },
  {
   "cell_type": "code",
   "execution_count": 77,
   "outputs": [
    {
     "data": {
      "text/plain": "torch.Size([10])"
     },
     "execution_count": 77,
     "metadata": {},
     "output_type": "execute_result"
    }
   ],
   "source": [
    "x[:, 0].shape"
   ],
   "metadata": {
    "collapsed": false,
    "pycharm": {
     "name": "#%%\n"
    }
   }
  },
  {
   "cell_type": "code",
   "execution_count": 78,
   "outputs": [
    {
     "data": {
      "text/plain": "tensor([0.1883, 0.9523, 0.7421, 0.4037, 0.7094, 0.3560, 0.7555, 0.0843, 0.9475,\n        0.2518], device='cuda:0')"
     },
     "execution_count": 78,
     "metadata": {},
     "output_type": "execute_result"
    }
   ],
   "source": [
    "x[2, 0:10]"
   ],
   "metadata": {
    "collapsed": false,
    "pycharm": {
     "name": "#%%\n"
    }
   }
  },
  {
   "cell_type": "code",
   "execution_count": 79,
   "outputs": [],
   "source": [
    "x[2, 0:10] = torch.tensor([0.6742, 0.7751, 0.2046, 0.2539,\n",
    "                           0.0352, 5.5212, 5.9559, 5.5626, 5.0052, 5.5009], device=device)"
   ],
   "metadata": {
    "collapsed": false,
    "pycharm": {
     "name": "#%%\n"
    }
   }
  },
  {
   "cell_type": "code",
   "execution_count": 80,
   "outputs": [
    {
     "data": {
      "text/plain": "tensor([0.6742, 0.7751, 0.2046, 0.2539, 0.0352, 5.5212, 5.9559, 5.5626, 5.0052,\n        5.5009], device='cuda:0')"
     },
     "execution_count": 80,
     "metadata": {},
     "output_type": "execute_result"
    }
   ],
   "source": [
    "x[2, 0:10]"
   ],
   "metadata": {
    "collapsed": false,
    "pycharm": {
     "name": "#%%\n"
    }
   }
  },
  {
   "cell_type": "code",
   "execution_count": 81,
   "outputs": [
    {
     "data": {
      "text/plain": "tensor([0.6742, 0.7751, 0.2046, 0.2539, 0.0352, 5.5212, 5.9559, 5.5626, 5.0052,\n        5.5009, 0.8526, 0.2454, 0.1487, 0.8739, 0.2743, 0.7691, 0.2984, 0.7313,\n        0.0204, 0.8899, 0.0812, 0.7680, 0.8674, 0.0801, 0.0667],\n       device='cuda:0')"
     },
     "execution_count": 81,
     "metadata": {},
     "output_type": "execute_result"
    }
   ],
   "source": [
    "x[2]"
   ],
   "metadata": {
    "collapsed": false,
    "pycharm": {
     "name": "#%%\n"
    }
   }
  },
  {
   "cell_type": "code",
   "execution_count": 83,
   "outputs": [
    {
     "name": "stdout",
     "output_type": "stream",
     "text": [
      "tensor([0.0250, 0.0461, 0.9681, 0.9759, 0.7713, 0.1682, 0.2049, 0.4175, 0.0899,\n",
      "        0.7860], device='cuda:0')\n",
      "tensor([0.9681, 0.1682, 0.0899], device='cuda:0')\n"
     ]
    }
   ],
   "source": [
    "x = torch.rand(10, device=device)\n",
    "print(x)\n",
    "indices = [2, 5, 8]\n",
    "print(x[indices])"
   ],
   "metadata": {
    "collapsed": false,
    "pycharm": {
     "name": "#%%\n"
    }
   }
  },
  {
   "cell_type": "code",
   "execution_count": 86,
   "outputs": [],
   "source": [
    "x = torch.rand(size=(3, 5), device=device)"
   ],
   "metadata": {
    "collapsed": false,
    "pycharm": {
     "name": "#%%\n"
    }
   }
  },
  {
   "cell_type": "code",
   "execution_count": 87,
   "outputs": [
    {
     "name": "stdout",
     "output_type": "stream",
     "text": [
      "tensor([[0.1724, 0.9068, 0.6190, 0.3594, 0.7001],\n",
      "        [0.6337, 0.0864, 0.7460, 0.0760, 0.8460],\n",
      "        [0.0235, 0.1691, 0.0821, 0.7116, 0.5856]], device='cuda:0')\n"
     ]
    }
   ],
   "source": [
    "print(x)"
   ],
   "metadata": {
    "collapsed": false,
    "pycharm": {
     "name": "#%%\n"
    }
   }
  },
  {
   "cell_type": "code",
   "execution_count": 88,
   "outputs": [],
   "source": [
    "rows = torch.tensor([1, 0], device=device)\n",
    "cols = torch.tensor([4, 0], device=device)"
   ],
   "metadata": {
    "collapsed": false,
    "pycharm": {
     "name": "#%%\n"
    }
   }
  },
  {
   "cell_type": "code",
   "execution_count": 89,
   "outputs": [
    {
     "name": "stdout",
     "output_type": "stream",
     "text": [
      "tensor([0.8460, 0.1724], device='cuda:0')\n"
     ]
    }
   ],
   "source": [
    "print(x[rows, cols])"
   ],
   "metadata": {
    "collapsed": false,
    "pycharm": {
     "name": "#%%\n"
    }
   }
  },
  {
   "cell_type": "code",
   "execution_count": 94,
   "outputs": [
    {
     "name": "stdout",
     "output_type": "stream",
     "text": [
      "tensor([0, 1, 9], device='cuda:0')\n"
     ]
    }
   ],
   "source": [
    "x = torch.arange(10, device=device)\n",
    "print(\n",
    "    x[(x < 2) | (x > 8)]\n",
    ")"
   ],
   "metadata": {
    "collapsed": false,
    "pycharm": {
     "name": "#%%\n"
    }
   }
  },
  {
   "cell_type": "code",
   "execution_count": 95,
   "outputs": [
    {
     "name": "stdout",
     "output_type": "stream",
     "text": [
      "tensor([6, 7], device='cuda:0')\n"
     ]
    }
   ],
   "source": [
    "x = torch.arange(10, device=device)\n",
    "print(\n",
    "    x[(x > 5) & (x < 8)]\n",
    ")"
   ],
   "metadata": {
    "collapsed": false,
    "pycharm": {
     "name": "#%%\n"
    }
   }
  },
  {
   "cell_type": "code",
   "execution_count": 96,
   "outputs": [
    {
     "name": "stdout",
     "output_type": "stream",
     "text": [
      "tensor([0, 2, 4, 6, 8], device='cuda:0')\n"
     ]
    }
   ],
   "source": [
    "print(x[x.remainder(2) == 0])"
   ],
   "metadata": {
    "collapsed": false,
    "pycharm": {
     "name": "#%%\n"
    }
   }
  },
  {
   "cell_type": "code",
   "execution_count": 97,
   "outputs": [
    {
     "data": {
      "text/plain": "tensor([ 0,  1,  4,  9, 16, 25,  6,  7,  8,  9], device='cuda:0')"
     },
     "execution_count": 97,
     "metadata": {},
     "output_type": "execute_result"
    }
   ],
   "source": [
    "torch.where(x > 5, x, x**2)"
   ],
   "metadata": {
    "collapsed": false,
    "pycharm": {
     "name": "#%%\n"
    }
   }
  },
  {
   "cell_type": "code",
   "execution_count": 98,
   "outputs": [
    {
     "data": {
      "text/plain": "tensor([0, 1, 2, 3, 4], device='cuda:0')"
     },
     "execution_count": 98,
     "metadata": {},
     "output_type": "execute_result"
    }
   ],
   "source": [
    "torch.tensor([0,0,1,2,2,3,4], device=device).unique()"
   ],
   "metadata": {
    "collapsed": false,
    "pycharm": {
     "name": "#%%\n"
    }
   }
  },
  {
   "cell_type": "code",
   "execution_count": 99,
   "outputs": [
    {
     "data": {
      "text/plain": "1"
     },
     "execution_count": 99,
     "metadata": {},
     "output_type": "execute_result"
    }
   ],
   "source": [
    "x.ndimension()"
   ],
   "metadata": {
    "collapsed": false,
    "pycharm": {
     "name": "#%%\n"
    }
   }
  },
  {
   "cell_type": "code",
   "execution_count": 100,
   "outputs": [
    {
     "name": "stdout",
     "output_type": "stream",
     "text": [
      "tensor([[[0.6604, 0.8371, 0.1231, 0.8883, 0.1286, 0.4204, 0.0095],\n",
      "         [0.8829, 0.0220, 0.6473, 0.0327, 0.8373, 0.5762, 0.3572],\n",
      "         [0.2817, 0.0036, 0.2431, 0.6430, 0.6438, 0.8991, 0.2367],\n",
      "         [0.9771, 0.6541, 0.2011, 0.7130, 0.8563, 0.6179, 0.4115],\n",
      "         [0.1296, 0.1506, 0.8903, 0.7375, 0.5069, 0.3776, 0.2162],\n",
      "         [0.2983, 0.4125, 0.6065, 0.4859, 0.8018, 0.4269, 0.7840]],\n",
      "\n",
      "        [[0.6987, 0.0543, 0.1557, 0.7935, 0.0099, 0.1673, 0.8113],\n",
      "         [0.1431, 0.4464, 0.6668, 0.2574, 0.7201, 0.2013, 0.3360],\n",
      "         [0.5593, 0.5039, 0.1739, 0.6880, 0.3079, 0.3480, 0.1226],\n",
      "         [0.7417, 0.7103, 0.4743, 0.6663, 0.1866, 0.5714, 0.4449],\n",
      "         [0.8182, 0.2105, 0.3306, 0.4120, 0.8403, 0.6596, 0.3278],\n",
      "         [0.9635, 0.6898, 0.1466, 0.6316, 0.5994, 0.0219, 0.1755]],\n",
      "\n",
      "        [[0.1229, 0.1158, 0.3821, 0.7284, 0.7511, 0.7006, 0.6479],\n",
      "         [0.8643, 0.7229, 0.9192, 0.5390, 0.1075, 0.4352, 0.3703],\n",
      "         [0.8460, 0.8451, 0.3034, 0.4464, 0.5498, 0.7775, 0.9262],\n",
      "         [0.0330, 0.6062, 0.0668, 0.2596, 0.5685, 0.6265, 0.0236],\n",
      "         [0.1089, 0.6503, 0.3411, 0.1459, 0.5965, 0.7965, 0.0920],\n",
      "         [0.0705, 0.5447, 0.2388, 0.5181, 0.6952, 0.2304, 0.4272]],\n",
      "\n",
      "        [[0.3944, 0.1369, 0.0809, 0.1419, 0.8092, 0.3177, 0.6377],\n",
      "         [0.1122, 0.9615, 0.1895, 0.4987, 0.4704, 0.7299, 0.2659],\n",
      "         [0.6118, 0.3596, 0.3852, 0.1012, 0.5363, 0.2675, 0.2327],\n",
      "         [0.3201, 0.2953, 0.9163, 0.9820, 0.5471, 0.5609, 0.6068],\n",
      "         [0.9842, 0.8546, 0.6180, 0.6094, 0.6785, 0.2158, 0.7300],\n",
      "         [0.4610, 0.0756, 0.2403, 0.7648, 0.5216, 0.2453, 0.0824]],\n",
      "\n",
      "        [[0.7793, 0.6124, 0.5460, 0.7901, 0.3221, 0.0943, 0.3829],\n",
      "         [0.1564, 0.0899, 0.6587, 0.3514, 0.7139, 0.9809, 0.9557],\n",
      "         [0.2060, 0.2271, 0.4878, 0.8691, 0.0456, 0.7869, 0.6550],\n",
      "         [0.8115, 0.3221, 0.2817, 0.5293, 0.1212, 0.5504, 0.2921],\n",
      "         [0.7632, 0.7065, 0.8018, 0.3546, 0.5725, 0.5238, 0.2848],\n",
      "         [0.9510, 0.7229, 0.4628, 0.0512, 0.1087, 0.5109, 0.6717]]],\n",
      "       device='cuda:0')\n"
     ]
    }
   ],
   "source": [
    "tensor = torch.rand(size=(5, 6, 7), device=device)\n",
    "print(tensor)"
   ],
   "metadata": {
    "collapsed": false,
    "pycharm": {
     "name": "#%%\n"
    }
   }
  },
  {
   "cell_type": "code",
   "execution_count": 101,
   "outputs": [
    {
     "data": {
      "text/plain": "3"
     },
     "execution_count": 101,
     "metadata": {},
     "output_type": "execute_result"
    }
   ],
   "source": [
    "tensor.ndimension()"
   ],
   "metadata": {
    "collapsed": false,
    "pycharm": {
     "name": "#%%\n"
    }
   }
  },
  {
   "cell_type": "code",
   "execution_count": 102,
   "outputs": [
    {
     "data": {
      "text/plain": "210"
     },
     "execution_count": 102,
     "metadata": {},
     "output_type": "execute_result"
    }
   ],
   "source": [
    "tensor.numel()"
   ],
   "metadata": {
    "collapsed": false,
    "pycharm": {
     "name": "#%%\n"
    }
   }
  },
  {
   "cell_type": "markdown",
   "source": [
    "# Reshaping"
   ],
   "metadata": {
    "collapsed": false,
    "pycharm": {
     "name": "#%% md\n"
    }
   }
  },
  {
   "cell_type": "code",
   "execution_count": null,
   "outputs": [],
   "source": [],
   "metadata": {
    "collapsed": false,
    "pycharm": {
     "name": "#%%\n"
    }
   }
  }
 ],
 "metadata": {
  "kernelspec": {
   "display_name": "Python 3.10.6 ('torch-1.12.1')",
   "language": "python",
   "name": "python3"
  },
  "language_info": {
   "codemirror_mode": {
    "name": "ipython",
    "version": 3
   },
   "file_extension": ".py",
   "mimetype": "text/x-python",
   "name": "python",
   "nbconvert_exporter": "python",
   "pygments_lexer": "ipython3",
   "version": "3.10.6"
  },
  "vscode": {
   "interpreter": {
    "hash": "1e3178fd84627fc9b229d600e91cebb94f19076bb824589ae100ad7d0273e95b"
   }
  }
 },
 "nbformat": 4,
 "nbformat_minor": 0
}